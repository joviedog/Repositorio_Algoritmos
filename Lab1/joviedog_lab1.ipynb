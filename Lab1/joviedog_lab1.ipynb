{
  "nbformat": 4,
  "nbformat_minor": 0,
  "metadata": {
    "colab": {
      "name": "joviedog_lab1.ipynb",
      "provenance": [],
      "collapsed_sections": [
        "S9eLg-IKtL29",
        "-emnAHxav2yL",
        "T864T7TMv8_Z",
        "aA8ZAagtv7Og",
        "eszIqbx60fIt",
        "0rqVg5jO29Fk",
        "FneQIarm3ziJ",
        "j0-BIOxc4uOu",
        "R40sPVE95F0v",
        "sUXhTUvY5ISg",
        "aQugLK3L5qwu",
        "bL_CaS_v6aL3",
        "orYG5NYl7FnC",
        "9CW0u4qe75BK",
        "8ohCXf4--3L1",
        "OBOQegrAAU5N",
        "Een-RieIC6uq",
        "_H8cTG8YDHVS",
        "wQUYpQMvECW7",
        "pqy3Y_8sECAr",
        "3TECHX1PEhkU",
        "XoxAcd1iFUSS",
        "qNtreXcOIa1f"
      ]
    },
    "kernelspec": {
      "name": "python3",
      "display_name": "Python 3"
    },
    "language_info": {
      "name": "python"
    }
  },
  "cells": [
    {
      "cell_type": "markdown",
      "source": [
        "# Laboratorio 1 - Algoritmos\n",
        "Juan Esteban Oviedo Garcia"
      ],
      "metadata": {
        "id": "j2mNLlx2syR9"
      }
    },
    {
      "cell_type": "markdown",
      "source": [
        "## 01 Data Types and Data Structures"
      ],
      "metadata": {
        "id": "S9eLg-IKtL29"
      }
    },
    {
      "cell_type": "markdown",
      "source": [
        "### Basic Variable Types"
      ],
      "metadata": {
        "id": "GTBgO_V-tTfs"
      }
    },
    {
      "cell_type": "markdown",
      "source": [
        "Se tienen 4 tipos de variables basicos (Strings, int, floating point y bools). Las cadenas se representan sea con comillas sencillas o comillas dobles"
      ],
      "metadata": {
        "id": "HPYeuwXotZam"
      }
    },
    {
      "cell_type": "code",
      "execution_count": null,
      "metadata": {
        "colab": {
          "base_uri": "https://localhost:8080/"
        },
        "id": "wyZpoPHFqVnO",
        "outputId": "63831c5a-f7aa-481c-b09f-8590032aedec"
      },
      "outputs": [
        {
          "output_type": "stream",
          "name": "stdout",
          "text": [
            "Bienvenido al curso De algoritmos 2022-1\n"
          ]
        }
      ],
      "source": [
        "# Definimos 2 cadenas de texto\n",
        "cadena1 = \"Bienvenido al curso \"\n",
        "cadena2 = \"De algoritmos 2022-1\"\n",
        "# Concatenamos las cadenas entre si\n",
        "print(cadena1 + cadena2)"
      ]
    },
    {
      "cell_type": "markdown",
      "source": [
        "Los integers son numeros redondeados sin valores luego del punto decimal\n"
      ],
      "metadata": {
        "id": "l3QqiQ4rtsk6"
      }
    },
    {
      "cell_type": "code",
      "source": [
        "# Definimos 2 numeros enteros \n",
        "entero1 = 2\n",
        "entero2 = 4\n",
        "# Suma de ambos numeros\n",
        "print(entero1 + entero2)\n",
        "# Verificamos el tipo de dato\n",
        "print(type(entero1))"
      ],
      "metadata": {
        "colab": {
          "base_uri": "https://localhost:8080/"
        },
        "id": "_q3qPcgZt9RW",
        "outputId": "371a4776-082a-43e5-d164-4173f3913604"
      },
      "execution_count": null,
      "outputs": [
        {
          "output_type": "stream",
          "name": "stdout",
          "text": [
            "6\n",
            "<class 'int'>\n"
          ]
        }
      ]
    },
    {
      "cell_type": "markdown",
      "source": [
        "Los floating point numbers son numeros que tienen valores luego del punto decimal. "
      ],
      "metadata": {
        "id": "_JFYQfp2t3pi"
      }
    },
    {
      "cell_type": "code",
      "source": [
        "floating1 = 199.2\n",
        "floating2 = 49.5\n",
        "# Sumamos los dos numeros y obtendremos un flotante\n",
        "print(floating1 + floating2)\n",
        "# Verificamos el tipo de dato\n",
        "print(type(floating1))"
      ],
      "metadata": {
        "colab": {
          "base_uri": "https://localhost:8080/"
        },
        "id": "4RllW_NJufa1",
        "outputId": "55577be1-0e0b-4026-954f-91c2b27d556d"
      },
      "execution_count": null,
      "outputs": [
        {
          "output_type": "stream",
          "name": "stdout",
          "text": [
            "248.7\n",
            "<class 'float'>\n"
          ]
        }
      ]
    },
    {
      "cell_type": "markdown",
      "source": [
        "Un booleano es una variable binaria, es decir solo puede tomar valores de verdadero o falso."
      ],
      "metadata": {
        "id": "3hqBFkeNuXOS"
      }
    },
    {
      "cell_type": "code",
      "source": [
        "is_2022 = True\n",
        "print(is_2022)\n",
        "print(type(is_2022))"
      ],
      "metadata": {
        "colab": {
          "base_uri": "https://localhost:8080/"
        },
        "id": "YXD_yJxvvDhn",
        "outputId": "75d23fa6-5ea4-423c-e307-7d9af6b51503"
      },
      "execution_count": null,
      "outputs": [
        {
          "output_type": "stream",
          "name": "stdout",
          "text": [
            "True\n",
            "<class 'bool'>\n"
          ]
        }
      ]
    },
    {
      "cell_type": "markdown",
      "source": [
        "### Operaciones matematicas basicas"
      ],
      "metadata": {
        "id": "kMewDwK_vS6F"
      }
    },
    {
      "cell_type": "code",
      "source": [
        "# Suma\n",
        "print(2 + 2)\n",
        "# Resta\n",
        "print(5 - 3)\n",
        "# Division\n",
        "print(8/4)\n",
        "# Multiplicacion\n",
        "print(6*7)"
      ],
      "metadata": {
        "colab": {
          "base_uri": "https://localhost:8080/"
        },
        "id": "6Cvwiz0RvYyV",
        "outputId": "1667adf2-0fda-4a29-c891-4b8381828f86"
      },
      "execution_count": null,
      "outputs": [
        {
          "output_type": "stream",
          "name": "stdout",
          "text": [
            "4\n",
            "2\n",
            "2.0\n",
            "42\n"
          ]
        }
      ]
    },
    {
      "cell_type": "markdown",
      "source": [
        "### Colecciones de datos basicas"
      ],
      "metadata": {
        "id": "_garJ6GXvuF3"
      }
    },
    {
      "cell_type": "markdown",
      "source": [
        "#### Listas\n",
        "\n",
        "Es una coleccion ordenada de valores. Es mutable, es decir se puede cambiar el valor sin cambiar la lista en si. \n",
        "\n",
        "Los elementos de la lista se pueden acceder a través de indices que comienzan en 0. Mientras que el del ultimo elemento será n-1, donde n es la longitud de la lista."
      ],
      "metadata": {
        "id": "IFOU7veFvyiY"
      }
    },
    {
      "cell_type": "code",
      "source": [
        "# Definir una lista de valores\n",
        "mi_lista = ['Algoritmos', 2022, 'CyT']\n",
        "# Podemos obtener la longitud de la lista y acceder a elementos de ella\n",
        "print(len(mi_lista))\n",
        "# El primer elemento de la lista\n",
        "mi_lista[0]"
      ],
      "metadata": {
        "colab": {
          "base_uri": "https://localhost:8080/",
          "height": 53
        },
        "id": "D1rYrJRawVY7",
        "outputId": "d27e978c-a5de-4de2-f81f-d072ea3eb220"
      },
      "execution_count": null,
      "outputs": [
        {
          "output_type": "stream",
          "name": "stdout",
          "text": [
            "3\n"
          ]
        },
        {
          "output_type": "execute_result",
          "data": {
            "text/plain": [
              "'Algoritmos'"
            ],
            "application/vnd.google.colaboratory.intrinsic+json": {
              "type": "string"
            }
          },
          "metadata": {},
          "execution_count": 15
        }
      ]
    },
    {
      "cell_type": "markdown",
      "source": [
        "Es posible cambiar elementos, accediendo a su indice. "
      ],
      "metadata": {
        "id": "IGTm6FKVwXDi"
      }
    },
    {
      "cell_type": "code",
      "source": [
        "# Cambiaremos CyT por 401\n",
        "mi_lista[2] = \"401\"\n",
        "print(mi_lista[2])"
      ],
      "metadata": {
        "colab": {
          "base_uri": "https://localhost:8080/"
        },
        "id": "AW-jxeU_we-n",
        "outputId": "8a1e337f-53d2-4c52-e619-0f640b2c7ef0"
      },
      "execution_count": null,
      "outputs": [
        {
          "output_type": "stream",
          "name": "stdout",
          "text": [
            "401\n"
          ]
        }
      ]
    },
    {
      "cell_type": "markdown",
      "source": [
        "O inclusive cortar la lista utilizando :"
      ],
      "metadata": {
        "id": "hDt6Qz19waT3"
      }
    },
    {
      "cell_type": "code",
      "source": [
        "# Mostrando todos los elementos, menos el ultimo \n",
        "mi_lista[:2]"
      ],
      "metadata": {
        "colab": {
          "base_uri": "https://localhost:8080/"
        },
        "id": "fUIq0AuAweEB",
        "outputId": "1c083c52-763a-48b7-ebc7-326569402be9"
      },
      "execution_count": null,
      "outputs": [
        {
          "output_type": "execute_result",
          "data": {
            "text/plain": [
              "['Algoritmos', 2022]"
            ]
          },
          "metadata": {},
          "execution_count": 17
        }
      ]
    },
    {
      "cell_type": "markdown",
      "source": [
        "Para añadir o eliminar un elemento se pueden emplear los metodos append y remove. "
      ],
      "metadata": {
        "id": "hoWkDDMGwiUB"
      }
    },
    {
      "cell_type": "code",
      "source": [
        "# Añadiendo el elemento Aulas de ingenieria\n",
        "mi_lista.append(\"Aulas de Ingenieria\")\n",
        "# Eliminando el elemento 401\n",
        "mi_lista.remove(\"401\")\n",
        "# Veamos la lista \n",
        "print(mi_lista)"
      ],
      "metadata": {
        "colab": {
          "base_uri": "https://localhost:8080/"
        },
        "id": "r57PN-WxxYjh",
        "outputId": "91eff83a-12fe-43f5-e365-8b303383b97f"
      },
      "execution_count": null,
      "outputs": [
        {
          "output_type": "stream",
          "name": "stdout",
          "text": [
            "['Algoritmos', 2022, 'Aulas de Ingenieria']\n"
          ]
        }
      ]
    },
    {
      "cell_type": "markdown",
      "source": [
        "#### Tuplas"
      ],
      "metadata": {
        "id": "-emnAHxav2yL"
      }
    },
    {
      "cell_type": "markdown",
      "source": [
        "Se trata de una estructura muy similar a la lista. Sin embargo, no es mutable una vez es definida. "
      ],
      "metadata": {
        "id": "CPOEGkC5xX57"
      }
    },
    {
      "cell_type": "code",
      "source": [
        "mitupla = (\"Algoritmos\", 2022, 401)\n",
        "# Tambien podemos cortarla \n",
        "print(mitupla[1:])"
      ],
      "metadata": {
        "colab": {
          "base_uri": "https://localhost:8080/"
        },
        "id": "b-l6-mMgyiG-",
        "outputId": "61309d4e-29fd-44f2-b9a3-626088f958b8"
      },
      "execution_count": null,
      "outputs": [
        {
          "output_type": "stream",
          "name": "stdout",
          "text": [
            "(2022, 401)\n"
          ]
        }
      ]
    },
    {
      "cell_type": "markdown",
      "source": [
        "#### Sets"
      ],
      "metadata": {
        "id": "T864T7TMv8_Z"
      }
    },
    {
      "cell_type": "markdown",
      "source": [
        "Un set es una coleccion no ordenada con elementos que no estan duplicados. Para crearlos se emplea la funcion *set()*"
      ],
      "metadata": {
        "id": "eWIEavDxyY3U"
      }
    },
    {
      "cell_type": "code",
      "source": [
        "fruits = [\"Apple\", \"Banano\", \"Apple\", \"Durazno\"]\n",
        "# Creamos un set de la lista\n",
        "fruit_set = set(fruits)\n",
        "print(fruit_set)"
      ],
      "metadata": {
        "colab": {
          "base_uri": "https://localhost:8080/"
        },
        "id": "OtbPh2jLywhU",
        "outputId": "f007a529-ecb7-4bc4-f5c3-58f63f7a37ba"
      },
      "execution_count": null,
      "outputs": [
        {
          "output_type": "stream",
          "name": "stdout",
          "text": [
            "{'Durazno', 'Apple', 'Banano'}\n"
          ]
        }
      ]
    },
    {
      "cell_type": "markdown",
      "source": [
        "#### Diccionarios"
      ],
      "metadata": {
        "id": "aA8ZAagtv7Og"
      }
    },
    {
      "cell_type": "markdown",
      "source": [
        "Un diccionario está indexado a partir de llaves, que tienen asociadas un valor. Para acceder a cada valor se utiliza la llave correspondiente. "
      ],
      "metadata": {
        "id": "jFfATnaVzaR_"
      }
    },
    {
      "cell_type": "code",
      "source": [
        "# Definimos un diccionario de clases\n",
        "clases = {'ALGO':'Algoritmos', 'SI': 'Sistemas de información', 'SOP':'Sistemas Operativos'}\n",
        "print(clases)\n",
        "# Accedemos al valor de ALGO\n",
        "print(clases['ALGO'])\n",
        "# Cambiando el valor de la llave SOP\n",
        "clases['SOP'] = 'Sistemas Operativos y Computo Paralelo'\n",
        "print(clases['SOP'])"
      ],
      "metadata": {
        "colab": {
          "base_uri": "https://localhost:8080/"
        },
        "id": "qZGXr0xAvyCn",
        "outputId": "20e4c5c8-0ae5-44b3-9dd2-0a7b521aa305"
      },
      "execution_count": null,
      "outputs": [
        {
          "output_type": "stream",
          "name": "stdout",
          "text": [
            "{'ALGO': 'Algoritmos', 'SI': 'Sistemas de información', 'SOP': 'Sistemas Operativos'}\n",
            "Algoritmos\n",
            "Sistemas Operativos y Computo Paralelo\n"
          ]
        }
      ]
    },
    {
      "cell_type": "markdown",
      "source": [
        "### Operaciones Comunes en Cadenas\n",
        "\n",
        "Las cadenas pueden ser cortadas como las tuplas usando el indice de sus caracteres.\n"
      ],
      "metadata": {
        "id": "eszIqbx60fIt"
      }
    },
    {
      "cell_type": "code",
      "source": [
        "cadena1 = \"Estoy aprendiendo algoritmos\"\n",
        "# Cortando\n",
        "print(cadena1[18:])"
      ],
      "metadata": {
        "colab": {
          "base_uri": "https://localhost:8080/"
        },
        "id": "D4QUF59K1HDO",
        "outputId": "ccfbe9ee-cd19-4863-d8e7-fc770e329882"
      },
      "execution_count": null,
      "outputs": [
        {
          "output_type": "stream",
          "name": "stdout",
          "text": [
            "algoritmos\n"
          ]
        }
      ]
    },
    {
      "cell_type": "markdown",
      "source": [
        "Algunos metodos utiles de las cadenas a abarcan el contar el numero de veces que se repite un caracter, el indice de un caracter o intercambiar 2 caracteres. "
      ],
      "metadata": {
        "id": "qN10Y8ug0oe-"
      }
    },
    {
      "cell_type": "code",
      "source": [
        "print(cadena1.count('e'))\n",
        "print(cadena1.find('e'))\n",
        "print(cadena1.replace('a','e'))"
      ],
      "metadata": {
        "colab": {
          "base_uri": "https://localhost:8080/"
        },
        "id": "ueOx456v1a2f",
        "outputId": "19659af1-bca6-4f67-f47a-5c3e563c6579"
      },
      "execution_count": null,
      "outputs": [
        {
          "output_type": "stream",
          "name": "stdout",
          "text": [
            "2\n",
            "9\n",
            "Estoy eprendiendo elgoritmos\n"
          ]
        }
      ]
    },
    {
      "cell_type": "markdown",
      "source": [
        "Es posible separar una cadena por un caracter dado a partir de la funcion *.split()* la cual retorna una lista"
      ],
      "metadata": {
        "id": "52aN1lQ_00dz"
      }
    },
    {
      "cell_type": "code",
      "source": [
        "# Separando la cadena 1 por los espacios\n",
        "print(cadena1.split())\n",
        "# Separando la cadena por la letra e\n",
        "print(cadena1.split('e'))"
      ],
      "metadata": {
        "colab": {
          "base_uri": "https://localhost:8080/"
        },
        "id": "gEvEjoep1rlg",
        "outputId": "3340fe31-7e0f-4ef3-ed0e-a4885d36f350"
      },
      "execution_count": null,
      "outputs": [
        {
          "output_type": "stream",
          "name": "stdout",
          "text": [
            "['Estoy', 'aprendiendo', 'algoritmos']\n",
            "['Estoy apr', 'ndi', 'ndo algoritmos']\n"
          ]
        }
      ]
    },
    {
      "cell_type": "markdown",
      "source": [
        "Tambien es posible reemplaczar secciones de nuestra cadena por una variable ya conocida a traves del formateo de cadenas. "
      ],
      "metadata": {
        "id": "j61SuII709JC"
      }
    },
    {
      "cell_type": "code",
      "source": [
        "# Usando corchetes\n",
        "print(f\"Hoy les quiero contar que {cadena1}\")\n",
        "# O usando el simbolo %\n",
        "print('El numeo de Fibonacci es %f'%1.68)\n"
      ],
      "metadata": {
        "colab": {
          "base_uri": "https://localhost:8080/"
        },
        "id": "kEYz81n613e2",
        "outputId": "6110c2ce-b58d-4512-fd75-8053f558aa43"
      },
      "execution_count": null,
      "outputs": [
        {
          "output_type": "stream",
          "name": "stdout",
          "text": [
            "Hoy les quiero contar que Estoy aprendiendo algoritmos\n",
            "El numeo de Fibonacci es 1.680000\n"
          ]
        }
      ]
    },
    {
      "cell_type": "markdown",
      "source": [
        ""
      ],
      "metadata": {
        "id": "NiNnZ4XM2bGL"
      }
    },
    {
      "cell_type": "markdown",
      "source": [
        "## 02 Operaciones Logicas y ciclos\n",
        "\n",
        "### Operadores Logicos\n",
        "\n",
        "Los operadores logicos evaluan expresiones que pueden ser verdaderas o falsas. Asi como combinaciones de estas."
      ],
      "metadata": {
        "id": "0rqVg5jO29Fk"
      }
    },
    {
      "cell_type": "code",
      "source": [
        "print(3 > 4)\n",
        "print(5 == 5)\n",
        "print(5 <= 10)"
      ],
      "metadata": {
        "colab": {
          "base_uri": "https://localhost:8080/"
        },
        "id": "woKUXXjE3RsQ",
        "outputId": "435ec474-c4ff-4680-e98d-bb0cd140c156"
      },
      "execution_count": null,
      "outputs": [
        {
          "output_type": "stream",
          "name": "stdout",
          "text": [
            "False\n",
            "True\n",
            "True\n"
          ]
        }
      ]
    },
    {
      "cell_type": "code",
      "source": [
        "# Podemos evaluar mas de una condicion a traves de and, not y or\n",
        "print(3 > 4 and 0 == 0)\n",
        "print(3 == 3 and 0 == 0)\n",
        "print(2 < 1 or 2 > 4)"
      ],
      "metadata": {
        "colab": {
          "base_uri": "https://localhost:8080/"
        },
        "id": "hBcs25oL3eYJ",
        "outputId": "0ab56ecf-6ffd-4aa5-a044-b4c9e492940e"
      },
      "execution_count": null,
      "outputs": [
        {
          "output_type": "stream",
          "name": "stdout",
          "text": [
            "False\n",
            "True\n",
            "False\n"
          ]
        }
      ]
    },
    {
      "cell_type": "markdown",
      "source": [
        "### If Statement\n",
        "\n",
        "El condicional if ejecuta un bloque de codigo solo si la condicion dada es verdadera. "
      ],
      "metadata": {
        "id": "FneQIarm3ziJ"
      }
    },
    {
      "cell_type": "code",
      "source": [
        "if 3 > 2:\n",
        "  print(\"3 es mayor que 2\")\n",
        "elif 2 < 1:\n",
        "  print(\"2 es menor que 1\")\n",
        "else:\n",
        "  print(\"Las condiciones no se cumplieron\")"
      ],
      "metadata": {
        "colab": {
          "base_uri": "https://localhost:8080/"
        },
        "id": "YZUdH2tJ3_lr",
        "outputId": "01343a31-9071-4891-d189-4ac6614a0577"
      },
      "execution_count": null,
      "outputs": [
        {
          "output_type": "stream",
          "name": "stdout",
          "text": [
            "3 es mayor que 2\n"
          ]
        }
      ]
    },
    {
      "cell_type": "markdown",
      "source": [
        "Tambien se pueden crear bloques complejos"
      ],
      "metadata": {
        "id": "vbDRew_H4ZU6"
      }
    },
    {
      "cell_type": "code",
      "source": [
        "p = 1 > 10\n",
        "q = 2 > 0.05\n",
        "if p and q:\n",
        "    print('p and q son verdaderas')\n",
        "elif p and not q:\n",
        "    print('q es falsa')\n",
        "elif q and not p:\n",
        "    print('p es falsa')\n",
        "else:\n",
        "    print('Ninguna es verdadera')"
      ],
      "metadata": {
        "colab": {
          "base_uri": "https://localhost:8080/"
        },
        "id": "sqlBnrnA4cn0",
        "outputId": "fb7c2b60-0ae2-4eae-c21f-faa99bcb3c4f"
      },
      "execution_count": null,
      "outputs": [
        {
          "output_type": "stream",
          "name": "stdout",
          "text": [
            "p es falsa\n"
          ]
        }
      ]
    },
    {
      "cell_type": "markdown",
      "source": [
        "### Ciclos \n",
        "\n",
        "Estos permiten repetir un bloque de codigo de manera indefinida."
      ],
      "metadata": {
        "id": "j0-BIOxc4uOu"
      }
    },
    {
      "cell_type": "markdown",
      "source": [
        "#### Ciclo While"
      ],
      "metadata": {
        "id": "R40sPVE95F0v"
      }
    },
    {
      "cell_type": "code",
      "source": [
        "i = 0\n",
        "# Repetimos el codigo hasta que i sea mayor o igual que 10\n",
        "while i < 10:\n",
        "  print(f\"I tiene un valor de {i}\")\n",
        "  i+=1"
      ],
      "metadata": {
        "colab": {
          "base_uri": "https://localhost:8080/"
        },
        "id": "DVKzTrO443wF",
        "outputId": "c732531c-6a22-4b21-9c4a-ed5e2b0601f1"
      },
      "execution_count": null,
      "outputs": [
        {
          "output_type": "stream",
          "name": "stdout",
          "text": [
            "I tiene un valor de 0\n",
            "I tiene un valor de 1\n",
            "I tiene un valor de 2\n",
            "I tiene un valor de 3\n",
            "I tiene un valor de 4\n",
            "I tiene un valor de 5\n",
            "I tiene un valor de 6\n",
            "I tiene un valor de 7\n",
            "I tiene un valor de 8\n",
            "I tiene un valor de 9\n"
          ]
        }
      ]
    },
    {
      "cell_type": "markdown",
      "source": [
        "#### Ciclo For\n",
        "Un ciclo for itera sobre una secuencia y se detiene cuando se llega al final.\n"
      ],
      "metadata": {
        "id": "sUXhTUvY5ISg"
      }
    },
    {
      "cell_type": "code",
      "source": [
        "# Utilizando el set previamente creado se puede iterar sobre el\n",
        "for fruta in fruit_set:\n",
        "  print(f\"Tenemos para comer {fruta}\")\n",
        "  "
      ],
      "metadata": {
        "colab": {
          "base_uri": "https://localhost:8080/"
        },
        "id": "RbOdsJLL5QJl",
        "outputId": "4ede8cca-1081-4e34-a172-d1eebfa45397"
      },
      "execution_count": null,
      "outputs": [
        {
          "output_type": "stream",
          "name": "stdout",
          "text": [
            "Tenemos para comer Durazno\n",
            "Tenemos para comer Apple\n",
            "Tenemos para comer Banano\n"
          ]
        }
      ]
    },
    {
      "cell_type": "markdown",
      "source": [
        "#### Break y Continue\n",
        "\n",
        "En un ciclo se pueden emplear los comandos break y continue. Break termina el ciclo de forma inmediata, mientras que continue pasa al siguiente elemento sobre el que se debe interar. "
      ],
      "metadata": {
        "id": "aQugLK3L5qwu"
      }
    },
    {
      "cell_type": "code",
      "source": [
        "# Ejemplo de break\n",
        "for fruit in fruits:\n",
        "  if fruit == 'Apple':\n",
        "    print(\"Tenemos manzanas\")\n",
        "    break\n",
        "print(\"\\n\\n\")\n",
        "# Ejemplo de continue\n",
        "for i in fruits:\n",
        "  if i == 'Banano':\n",
        "    continue\n",
        "  print(i)"
      ],
      "metadata": {
        "colab": {
          "base_uri": "https://localhost:8080/"
        },
        "id": "UhcZ52pp511X",
        "outputId": "d6b3f259-0d91-43a6-dfa1-4dceb6417166"
      },
      "execution_count": null,
      "outputs": [
        {
          "output_type": "stream",
          "name": "stdout",
          "text": [
            "Tenemos manzanas\n",
            "\n",
            "\n",
            "\n",
            "Apple\n",
            "Apple\n",
            "Durazno\n"
          ]
        }
      ]
    },
    {
      "cell_type": "markdown",
      "source": [
        "#### Comprension de listas \n",
        "\n",
        "Es una forma pitonica decrear listas. A continuaci[on se explica como funciona.\n"
      ],
      "metadata": {
        "id": "bL_CaS_v6aL3"
      }
    },
    {
      "cell_type": "code",
      "source": [
        "# Calcular los cubos de los numeros de 1 a 9\n",
        "cubos = [x**3 for x in range(1, 10)]\n",
        "print(cubos)"
      ],
      "metadata": {
        "colab": {
          "base_uri": "https://localhost:8080/"
        },
        "id": "anKQX_w36isz",
        "outputId": "c02b93c8-b231-4f3a-dd05-63afbb7321d5"
      },
      "execution_count": null,
      "outputs": [
        {
          "output_type": "stream",
          "name": "stdout",
          "text": [
            "[1, 8, 27, 64, 125, 216, 343, 512, 729]\n"
          ]
        }
      ]
    },
    {
      "cell_type": "markdown",
      "source": [
        "Es posible a;adir expresiones como if para controlar que se añade a la lista"
      ],
      "metadata": {
        "id": "EM7c6xDN61H6"
      }
    },
    {
      "cell_type": "code",
      "source": [
        "# Calcular los cubos de los numeros impares de 1 a 9\n",
        "# Calcular los cubos de los numeros de 1 a 9\n",
        "cubos = [x**3 for x in range(1, 10) if x%2!=0]\n",
        "print(cubos)"
      ],
      "metadata": {
        "colab": {
          "base_uri": "https://localhost:8080/"
        },
        "id": "22RLpNPJ6oST",
        "outputId": "47fc3938-6a73-4326-b064-43152bcd34a1"
      },
      "execution_count": null,
      "outputs": [
        {
          "output_type": "stream",
          "name": "stdout",
          "text": [
            "[1, 27, 125, 343, 729]\n"
          ]
        }
      ]
    },
    {
      "cell_type": "markdown",
      "source": [
        ""
      ],
      "metadata": {
        "id": "Rp1Thc897IIy"
      }
    },
    {
      "cell_type": "markdown",
      "source": [
        "## 03 Funciones y programación orientada por objetos\n",
        "\n",
        "### Funciones\n",
        "\n",
        "Una función es un bloque reutilizable de codigo, podemos emplearla para retornar n valor o hacer lo que deseemos. Podemos definir una función a través de la palabra clave *def*"
      ],
      "metadata": {
        "id": "orYG5NYl7FnC"
      }
    },
    {
      "cell_type": "code",
      "source": [
        "# Definimos una función que nos permita calcular el cuadrado de un numero dado\n",
        "def square(x):\n",
        "  return x**2\n",
        "# Llamamos la funcion varias veces en lugar de repetir el codigo varias veces.\n",
        "print(square(8))\n",
        "print(square(4))"
      ],
      "metadata": {
        "colab": {
          "base_uri": "https://localhost:8080/"
        },
        "id": "5IaPPWgn6oQx",
        "outputId": "c3d243ee-ed99-4314-95a2-83a81d69da17"
      },
      "execution_count": null,
      "outputs": [
        {
          "output_type": "stream",
          "name": "stdout",
          "text": [
            "64\n"
          ]
        }
      ]
    },
    {
      "cell_type": "markdown",
      "source": [
        "### Built-in Function\n",
        "\n",
        "Son funciones que están incluidas dentro del lenguaje. Por ejemplo: \n",
        "\n",
        "- La funcion range crea una lista con una secuencia aritmetica en el rango dado y con la diferencia entre valores dada\n",
        "- La funcion len() calcula la longitud de un objeto.\n",
        "- La función map() permite aplicar una función especifica a un objeto y retorna una lista con los resultados. "
      ],
      "metadata": {
        "id": "9CW0u4qe75BK"
      }
    },
    {
      "cell_type": "code",
      "source": [
        "# Range\n",
        "# Crear una lista de los pares hasta 100\n",
        "print(\"Funcion RANGE\")\n",
        "print(list(range(0, 101, 2)))\n",
        "\n",
        "# Len\n",
        "# Contar el numero de pares hasta 100\n",
        "print(\"Funcion LEN\")\n",
        "print(len(range(0, 101, 2)))\n",
        "\n",
        "# Map\n",
        "# Convertir los numeros pares hasta 100 en strings\n",
        "print(\"Funcion MAP\")\n",
        "print(list(map(str, range(0, 101, 2))))"
      ],
      "metadata": {
        "colab": {
          "base_uri": "https://localhost:8080/"
        },
        "id": "vfu9Clco7ZqR",
        "outputId": "942e0272-5c3a-4464-f403-629874ca88ec"
      },
      "execution_count": null,
      "outputs": [
        {
          "output_type": "stream",
          "name": "stdout",
          "text": [
            "Funcion RANGE\n",
            "[0, 2, 4, 6, 8, 10, 12, 14, 16, 18, 20, 22, 24, 26, 28, 30, 32, 34, 36, 38, 40, 42, 44, 46, 48, 50, 52, 54, 56, 58, 60, 62, 64, 66, 68, 70, 72, 74, 76, 78, 80, 82, 84, 86, 88, 90, 92, 94, 96, 98, 100]\n",
            "Funcion LEN\n",
            "51\n",
            "Funcion MAP\n",
            "['0', '2', '4', '6', '8', '10', '12', '14', '16', '18', '20', '22', '24', '26', '28', '30', '32', '34', '36', '38', '40', '42', '44', '46', '48', '50', '52', '54', '56', '58', '60', '62', '64', '66', '68', '70', '72', '74', '76', '78', '80', '82', '84', '86', '88', '90', '92', '94', '96', '98', '100']\n"
          ]
        }
      ]
    },
    {
      "cell_type": "markdown",
      "source": [
        "El operador lambda permite crear funciones anonimas que solo se requieren en donde han sido creadas. "
      ],
      "metadata": {
        "id": "gC6opWVj9OQM"
      }
    },
    {
      "cell_type": "code",
      "source": [
        "# Calcular el cubo de los numeros de 0 a 9\n",
        "list(map(lambda x: x**3, range(10)))"
      ],
      "metadata": {
        "colab": {
          "base_uri": "https://localhost:8080/"
        },
        "id": "2O7PB-Ac83SJ",
        "outputId": "0b886dd5-03db-4acf-c653-50339aca3b3d"
      },
      "execution_count": null,
      "outputs": [
        {
          "output_type": "execute_result",
          "data": {
            "text/plain": [
              "[0, 1, 8, 27, 64, 125, 216, 343, 512, 729]"
            ]
          },
          "metadata": {},
          "execution_count": 51
        }
      ]
    },
    {
      "cell_type": "markdown",
      "source": [
        "Es posible ordenar una lista usando la funcion sorted. Sea para ordenarla de forma ascendente o para ordenarla de forma descendente. "
      ],
      "metadata": {
        "id": "AlUhtkXL-rs4"
      }
    },
    {
      "cell_type": "code",
      "source": [
        "numeros = [1,2,7767,23324,2547, 0]\n",
        "# Ordenar una lista creando otra nueva lista\n",
        "listaAscendente = sorted(numeros)\n",
        "print(listaAscendente)\n"
      ],
      "metadata": {
        "colab": {
          "base_uri": "https://localhost:8080/"
        },
        "id": "xZPm2Bxa9gAw",
        "outputId": "c8ae64fc-65dc-4bc3-8910-b264661fe1fa"
      },
      "execution_count": null,
      "outputs": [
        {
          "output_type": "stream",
          "name": "stdout",
          "text": [
            "[0, 1, 2, 2547, 7767, 23324]\n"
          ]
        }
      ]
    },
    {
      "cell_type": "code",
      "source": [
        "# Ordenar una lista en el mismo objeto\n",
        "numeros.sort()\n",
        "print(numeros)"
      ],
      "metadata": {
        "colab": {
          "base_uri": "https://localhost:8080/"
        },
        "id": "jwcWprNf-P6A",
        "outputId": "d877023e-249a-45a6-a7e7-d5e430f3e360"
      },
      "execution_count": null,
      "outputs": [
        {
          "output_type": "stream",
          "name": "stdout",
          "text": [
            "[0, 1, 2, 2547, 7767, 23324]\n"
          ]
        }
      ]
    },
    {
      "cell_type": "code",
      "source": [
        "# Ordenar una lista en orden descendente\n",
        "listaDescendente = sorted(numeros, reverse=True)\n",
        "print(listaDescendente)"
      ],
      "metadata": {
        "colab": {
          "base_uri": "https://localhost:8080/"
        },
        "id": "4AF5NXIZ-Uw7",
        "outputId": "43651d30-22de-41d5-ab17-e2d5cc544dbe"
      },
      "execution_count": null,
      "outputs": [
        {
          "output_type": "stream",
          "name": "stdout",
          "text": [
            "[23324, 7767, 2547, 2, 1, 0]\n"
          ]
        }
      ]
    },
    {
      "cell_type": "markdown",
      "source": [
        "### Programacion Orientada a Objetos\n",
        "\n",
        "Python es un lenguaje de programación orientado a objetos. Es importante comprender el concepto de \"objetos\" porque casi todos los tipos de datos de la API de QuantConnect son objetos.\n",
        "\n",
        "## Clase\n",
        "Una clase es un tipo de datos, como una cadena, un flotante o una lista. Cuando creamos un objeto de ese tipo de datos, lo llamamos instancia de una clase.\n",
        "\n",
        "En Python, todo es un objeto, todo es una instancia de alguna clase. Los datos almacenados dentro de un objeto se denominan atributos, y las funciones asociadas con el objeto se denominan métodos."
      ],
      "metadata": {
        "id": "8ohCXf4--3L1"
      }
    },
    {
      "cell_type": "code",
      "source": [
        "# Definimeros la clase persona\n",
        "class Person:\n",
        "  def __init__(self, nombre, carrera, edad):\n",
        "    self.nombre = nombre\n",
        "    self.carrera = carrera\n",
        "    self.edad = edad\n",
        "\n",
        "  def printReturn(self):\n",
        "    print(f\"Hola, me llamo {self.nombre}\")\n",
        "\n",
        "# Inicializando instancias de la clase persona \n",
        "\n",
        "carlos = Person(\"Carlos\", \"Ing.Industrial\", 23)\n",
        "felipe = Person(\"Felipe\", \"Ing.Agricola\", 18)\n",
        "\n",
        "# Ahora podemos concer atributos de las clases sea a través de los atributos o usando funciones\n",
        "print(carlos.carrera)\n",
        "felipe.printReturn()\n",
        "\n",
        "# Podemos añadir un atributo a un objeto en cualquier lugar\n",
        "carlos.sueño = \"Conocer la luna\"\n",
        "print(carlos.sueño)"
      ],
      "metadata": {
        "colab": {
          "base_uri": "https://localhost:8080/"
        },
        "id": "x3z5tqjQ-cTI",
        "outputId": "d42635c8-75bb-464e-e3a0-275b59082464"
      },
      "execution_count": null,
      "outputs": [
        {
          "output_type": "stream",
          "name": "stdout",
          "text": [
            "Ing.Industrial\n",
            "Hola, me llamo Felipe\n",
            "Conocer la luna\n"
          ]
        }
      ]
    },
    {
      "cell_type": "markdown",
      "source": [
        "### Herencia\n",
        "\n",
        "La herencia es una forma de organizar las clases en una jerarquía desde la más general hasta la más específica. Una clase \"secundaria\" es un tipo más específico de clase \"principal\" porque una clase secundaria heredará todos los atributos y métodos de su matriz."
      ],
      "metadata": {
        "id": "OBOQegrAAU5N"
      }
    },
    {
      "cell_type": "code",
      "source": [
        "# Crearemos una clase estudiante que hereda de persona\n",
        "class Student(Person):\n",
        "  def __init__(self, name):\n",
        "    self.name = name\n",
        "  \n",
        "juan = Student(\"Juan\")"
      ],
      "metadata": {
        "id": "jlw1UTp2AdMh"
      },
      "execution_count": null,
      "outputs": []
    },
    {
      "cell_type": "markdown",
      "source": [
        "## 04 Numpy y Pandas Basico\n",
        "\n",
        "### Numpy \n",
        "\n",
        "NumPy es la biblioteca central para computación científica en Python. Proporciona un objeto de matriz multidimensional de alto rendimiento y herramientas para trabajar con estas matrices. También tiene una fuerte integración con Pandas, que es otra poderosa herramienta para manipular datos financieros.\n",
        "\n",
        "Los paquetes de Python como NumPy y Pandas contienen clases y métodos que podemos usar importando el paquete:"
      ],
      "metadata": {
        "id": "Een-RieIC6uq"
      }
    },
    {
      "cell_type": "code",
      "source": [
        "import numpy as np"
      ],
      "metadata": {
        "id": "Sb_hwHtKDEbE"
      },
      "execution_count": null,
      "outputs": []
    },
    {
      "cell_type": "markdown",
      "source": [
        "### Arrelos basicos en Numpy\n",
        "\n",
        "Un arreglo de numpy es una cuadricula de valores todos del mismo tipo, indexada por una tupla de enteros. "
      ],
      "metadata": {
        "id": "_H8cTG8YDHVS"
      }
    },
    {
      "cell_type": "code",
      "source": [
        "price_list = [143.73, 145.83, 143.68, 144.02, 143.5, 142.62]\n",
        "price_array = np.array(price_list)\n",
        "print(price_array, type(price_array))"
      ],
      "metadata": {
        "colab": {
          "base_uri": "https://localhost:8080/"
        },
        "id": "Cfxuad1PDR1P",
        "outputId": "52747377-98bb-40c0-de4d-7f48c3ed930b"
      },
      "execution_count": null,
      "outputs": [
        {
          "output_type": "stream",
          "name": "stdout",
          "text": [
            "[143.73 145.83 143.68 144.02 143.5  142.62] <class 'numpy.ndarray'>\n"
          ]
        }
      ]
    },
    {
      "cell_type": "markdown",
      "source": [
        "El arreglo de arriba es un arreglo multidimensional, mientras que el arreglo a continuación es de 2 dimensiones"
      ],
      "metadata": {
        "id": "UiYclBXaDUPv"
      }
    },
    {
      "cell_type": "code",
      "source": [
        "Ar = np.array([[5,2],[1,9]])\n",
        "print(Ar, type(Ar))"
      ],
      "metadata": {
        "colab": {
          "base_uri": "https://localhost:8080/"
        },
        "id": "HPL5rWBuDb6e",
        "outputId": "dfdde791-da0a-4a20-dbc2-343cebddae46"
      },
      "execution_count": null,
      "outputs": [
        {
          "output_type": "stream",
          "name": "stdout",
          "text": [
            "[[5 2]\n",
            " [1 9]] <class 'numpy.ndarray'>\n"
          ]
        }
      ]
    },
    {
      "cell_type": "markdown",
      "source": [
        "Podemos conocer las dimensiones del arreglo e incluso acceder a las filas del arreglo a través de un indice."
      ],
      "metadata": {
        "id": "pJ4cF7MTDin8"
      }
    },
    {
      "cell_type": "code",
      "source": [
        "print(Ar.shape)"
      ],
      "metadata": {
        "colab": {
          "base_uri": "https://localhost:8080/"
        },
        "id": "Fe3P53PRDo2v",
        "outputId": "75acf0d6-2adc-4125-ad30-e6289f6c35aa"
      },
      "execution_count": null,
      "outputs": [
        {
          "output_type": "stream",
          "name": "stdout",
          "text": [
            "(2, 2)\n"
          ]
        }
      ]
    },
    {
      "cell_type": "code",
      "source": [
        "print(Ar[0])"
      ],
      "metadata": {
        "colab": {
          "base_uri": "https://localhost:8080/"
        },
        "id": "NJadLSf8Dra1",
        "outputId": "5b78392a-cf60-4c6f-da2f-ed069c0407f3"
      },
      "execution_count": null,
      "outputs": [
        {
          "output_type": "stream",
          "name": "stdout",
          "text": [
            "[5 2]\n"
          ]
        }
      ]
    },
    {
      "cell_type": "markdown",
      "source": [
        "Es posible tambien acceder por columnas como se hace a continuacion\n"
      ],
      "metadata": {
        "id": "PjZLQJWcDycM"
      }
    },
    {
      "cell_type": "code",
      "source": [
        "print('the first column: ', Ar[:,0])\n",
        "# Debe imprimir 5,1"
      ],
      "metadata": {
        "colab": {
          "base_uri": "https://localhost:8080/"
        },
        "id": "M0RSmPlCD3Vg",
        "outputId": "40a4e1da-58e4-4c71-de51-9c6635e9eae1"
      },
      "execution_count": null,
      "outputs": [
        {
          "output_type": "stream",
          "name": "stdout",
          "text": [
            "the first column:  [5 1]\n"
          ]
        }
      ]
    },
    {
      "cell_type": "markdown",
      "source": [
        "### Funciones de arreglos"
      ],
      "metadata": {
        "id": "wQUYpQMvECW7"
      }
    },
    {
      "cell_type": "code",
      "source": [
        "# Calcular el logaritmo natural de cada uno de los elementos\n",
        "print(\"Calculo ln de cada elemento: \")\n",
        "print(np.log(price_array))\n",
        "\n",
        "# Funciones promedio, desv. estandar, suma y maximo de un arreglo\n",
        "print(\"Otras funciones\")\n",
        "print(np.mean(price_array))\n",
        "print(np.std(price_array))\n",
        "print(np.sum(price_array))\n",
        "print(np.max(price_array))"
      ],
      "metadata": {
        "colab": {
          "base_uri": "https://localhost:8080/"
        },
        "id": "Y_liGwHQEFbR",
        "outputId": "f1bad7e8-d244-4377-88d2-01ef48b0469c"
      },
      "execution_count": null,
      "outputs": [
        {
          "output_type": "stream",
          "name": "stdout",
          "text": [
            "Calculo ln de cada elemento: \n",
            "[4.96793654 4.98244156 4.9675886  4.96995218 4.96633504 4.96018375]\n",
            "Otras funciones\n",
            "143.89666666666668\n",
            "0.9673790478515796\n",
            "863.38\n",
            "145.83\n"
          ]
        }
      ]
    },
    {
      "cell_type": "markdown",
      "source": [
        "### Pandas"
      ],
      "metadata": {
        "id": "pqy3Y_8sECAr"
      }
    },
    {
      "cell_type": "code",
      "source": [
        "import pandas as pd"
      ],
      "metadata": {
        "id": "YmcxCXqYEfRx"
      },
      "execution_count": null,
      "outputs": []
    },
    {
      "cell_type": "markdown",
      "source": [
        "### Series\n",
        "\n",
        "Las series son arreglos con labels unidimensionales que continenen cualquier tipo de dato. Se crea una serie a partir de la funcion _pd.Series(datos)_ con un diccionario, un arreglo o sencillamente un escalar. "
      ],
      "metadata": {
        "id": "3TECHX1PEhkU"
      }
    },
    {
      "cell_type": "code",
      "source": [
        "price = [x for x in range(140, 170, 4)]\n",
        "s = pd.Series(price)\n",
        "s"
      ],
      "metadata": {
        "colab": {
          "base_uri": "https://localhost:8080/"
        },
        "id": "cXjMorFGEycF",
        "outputId": "cdfbc35b-cf9d-4778-dd3d-0f741c25fa74"
      },
      "execution_count": null,
      "outputs": [
        {
          "output_type": "execute_result",
          "data": {
            "text/plain": [
              "0    140\n",
              "1    144\n",
              "2    148\n",
              "3    152\n",
              "4    156\n",
              "5    160\n",
              "6    164\n",
              "7    168\n",
              "dtype: int64"
            ]
          },
          "metadata": {},
          "execution_count": 79
        }
      ]
    },
    {
      "cell_type": "code",
      "source": [
        "# Podemos modificar los indices de una serie de la siguiente manera \n",
        "s = pd.Series(price,index = ['a','b','c','d','e','f', 'g', 'h'])\n",
        "s"
      ],
      "metadata": {
        "colab": {
          "base_uri": "https://localhost:8080/"
        },
        "id": "wK_irzUFFFMp",
        "outputId": "1a68738b-bcc6-4e48-c8d6-e8c214767211"
      },
      "execution_count": null,
      "outputs": [
        {
          "output_type": "execute_result",
          "data": {
            "text/plain": [
              "a    140\n",
              "b    144\n",
              "c    148\n",
              "d    152\n",
              "e    156\n",
              "f    160\n",
              "g    164\n",
              "h    168\n",
              "dtype: int64"
            ]
          },
          "metadata": {},
          "execution_count": 82
        }
      ]
    },
    {
      "cell_type": "code",
      "source": [
        "# Podemos cortar la serie usando indices, por ejemplo \n",
        "# De una forma similar a las listas\n",
        "print(s[1:])\n",
        "print(s[:-2])"
      ],
      "metadata": {
        "colab": {
          "base_uri": "https://localhost:8080/"
        },
        "id": "uDIwfAnBFVw5",
        "outputId": "9f045f05-4ca4-463d-e5e8-97e8e3c1a01e"
      },
      "execution_count": null,
      "outputs": [
        {
          "output_type": "stream",
          "name": "stdout",
          "text": [
            "b    144\n",
            "c    148\n",
            "d    152\n",
            "e      0\n",
            "f    160\n",
            "g    164\n",
            "h    168\n",
            "dtype: int64\n",
            "a    140\n",
            "b    144\n",
            "c    148\n",
            "d    152\n",
            "e      0\n",
            "f    160\n",
            "dtype: int64\n"
          ]
        }
      ]
    },
    {
      "cell_type": "code",
      "source": [
        "# Podemos acceder a un elementos de la seria como a un valor de una llave en un\n",
        "# diccionario\n",
        "print(s[4])\n",
        "s[4] = 0\n",
        "print(s)"
      ],
      "metadata": {
        "colab": {
          "base_uri": "https://localhost:8080/"
        },
        "id": "jEzNeJZhFca5",
        "outputId": "bdff1cba-8b64-4747-a252-6a85fe636ea7"
      },
      "execution_count": null,
      "outputs": [
        {
          "output_type": "stream",
          "name": "stdout",
          "text": [
            "156\n",
            "a    140\n",
            "b    144\n",
            "c    148\n",
            "d    152\n",
            "e      0\n",
            "f    160\n",
            "g    164\n",
            "h    168\n",
            "dtype: int64\n"
          ]
        }
      ]
    },
    {
      "cell_type": "code",
      "source": [
        "# Tambien es posible asingarle un nombre a las series\n",
        "s = pd.Series(price, name = 'Apple Price List')\n",
        "print(s)\n",
        "print(s.name)"
      ],
      "metadata": {
        "colab": {
          "base_uri": "https://localhost:8080/"
        },
        "id": "9DaN5YTLFerJ",
        "outputId": "3b3b1f63-e92a-4f02-85b4-055bc54cf6f9"
      },
      "execution_count": null,
      "outputs": [
        {
          "output_type": "stream",
          "name": "stdout",
          "text": [
            "0    140\n",
            "1    144\n",
            "2    148\n",
            "3    152\n",
            "4    156\n",
            "5    160\n",
            "6    164\n",
            "7    168\n",
            "Name: Apple Price List, dtype: int64\n",
            "Apple Price List\n"
          ]
        }
      ]
    },
    {
      "cell_type": "code",
      "source": [
        "# Se pueden obtener datos estadisticos de una serie a traves del uso de la funcion describe\n",
        "print(s.describe())"
      ],
      "metadata": {
        "colab": {
          "base_uri": "https://localhost:8080/"
        },
        "id": "ImInJrAOFz_X",
        "outputId": "cf99e901-d813-4636-d7e1-e5ad08f0d669"
      },
      "execution_count": null,
      "outputs": [
        {
          "output_type": "stream",
          "name": "stdout",
          "text": [
            "count      8.000000\n",
            "mean     154.000000\n",
            "std        9.797959\n",
            "min      140.000000\n",
            "25%      147.000000\n",
            "50%      154.000000\n",
            "75%      161.000000\n",
            "max      168.000000\n",
            "Name: Apple Price List, dtype: float64\n"
          ]
        }
      ]
    },
    {
      "cell_type": "markdown",
      "source": [
        "### Time Index\n",
        "\n",
        "Pandas permite crear indices de fechas, por ejemplo, podemos usarla para crear indices para la serie\n"
      ],
      "metadata": {
        "id": "XoxAcd1iFUSS"
      }
    },
    {
      "cell_type": "code",
      "source": [
        "time_index = pd.date_range('2017-01-01',periods = len(s),freq = 'D')\n",
        "print(time_index)\n",
        "s.index = time_index\n",
        "print(s)"
      ],
      "metadata": {
        "colab": {
          "base_uri": "https://localhost:8080/"
        },
        "id": "6y0WOc4ZF5rF",
        "outputId": "747930d7-dc83-491e-eddc-946890a3f95d"
      },
      "execution_count": null,
      "outputs": [
        {
          "output_type": "stream",
          "name": "stdout",
          "text": [
            "DatetimeIndex(['2017-01-01', '2017-01-02', '2017-01-03', '2017-01-04',\n",
            "               '2017-01-05', '2017-01-06', '2017-01-07', '2017-01-08'],\n",
            "              dtype='datetime64[ns]', freq='D')\n",
            "2017-01-01    140\n",
            "2017-01-02    144\n",
            "2017-01-03    148\n",
            "2017-01-04    152\n",
            "2017-01-05    156\n",
            "2017-01-06    160\n",
            "2017-01-07    164\n",
            "2017-01-08    168\n",
            "Freq: D, Name: Apple Price List, dtype: int64\n"
          ]
        }
      ]
    },
    {
      "cell_type": "markdown",
      "source": [
        "Para acceder a una serie se puede emplear iloc[] y loc[], accediendo por indice a un elemento o a un indice de la serie respectivamente."
      ],
      "metadata": {
        "id": "-HW4bl-lGPDc"
      }
    },
    {
      "cell_type": "code",
      "source": [
        "s.index = [8, 7, 6, 5, 4, 3, 2, 1]\n",
        "print(s)\n",
        "print(s[2])"
      ],
      "metadata": {
        "colab": {
          "base_uri": "https://localhost:8080/"
        },
        "id": "w_-FnZN2Gdlf",
        "outputId": "18268c64-08e8-41d7-c560-f0043caf66bf"
      },
      "execution_count": null,
      "outputs": [
        {
          "output_type": "stream",
          "name": "stdout",
          "text": [
            "8    140\n",
            "7    144\n",
            "6    148\n",
            "5    152\n",
            "4    156\n",
            "3    160\n",
            "2    164\n",
            "1    168\n",
            "Name: Apple Price List, dtype: int64\n",
            "164\n"
          ]
        }
      ]
    },
    {
      "cell_type": "code",
      "source": [
        "# Para acceder al segundo elemento de la serie usamos iloc\n",
        "print(s.iloc[1])"
      ],
      "metadata": {
        "colab": {
          "base_uri": "https://localhost:8080/"
        },
        "id": "Xmt3cFQjGt63",
        "outputId": "44cff0db-380f-4be3-a4b5-13ffa2c5a8f5"
      },
      "execution_count": null,
      "outputs": [
        {
          "output_type": "stream",
          "name": "stdout",
          "text": [
            "144\n"
          ]
        }
      ]
    },
    {
      "cell_type": "markdown",
      "source": [
        "Cuando se trabaja con series de tiempo, se usa el tiempo como un indice. Python permite acceder a estos datos con el indice de tiempo"
      ],
      "metadata": {
        "id": "zfU8uU1DG4_U"
      }
    },
    {
      "cell_type": "code",
      "source": [
        "s.index = time_index\n",
        "print(s['2017-01-03'])"
      ],
      "metadata": {
        "colab": {
          "base_uri": "https://localhost:8080/"
        },
        "id": "eGAoKkOTG5T3",
        "outputId": "5055a2d1-ed1a-4d31-c8d7-2fc71894fc71"
      },
      "execution_count": null,
      "outputs": [
        {
          "output_type": "stream",
          "name": "stdout",
          "text": [
            "148\n"
          ]
        }
      ]
    },
    {
      "cell_type": "code",
      "source": [
        "# Podemos tambien imprimir un rango de fechas\n",
        "print(s['2017-01-02':'2017-01-05'])"
      ],
      "metadata": {
        "colab": {
          "base_uri": "https://localhost:8080/"
        },
        "id": "dfe7t-ibHD_Z",
        "outputId": "0df80ab3-dc64-4faa-b3ed-e65039cfb7b6"
      },
      "execution_count": null,
      "outputs": [
        {
          "output_type": "stream",
          "name": "stdout",
          "text": [
            "2017-01-02    144\n",
            "2017-01-03    148\n",
            "2017-01-04    152\n",
            "2017-01-05    156\n",
            "Freq: D, Name: Apple Price List, dtype: int64\n"
          ]
        }
      ]
    },
    {
      "cell_type": "markdown",
      "source": [
        "Podemos indexar los datos a partir de una condicion como se muestra a continuacion."
      ],
      "metadata": {
        "id": "48pvT5xEHMvv"
      }
    },
    {
      "cell_type": "code",
      "source": [
        "print(s[s < np.mean(s)] )\n",
        "print([(s > np.mean(s)) & (s < np.mean(s) + 1.64*np.std(s))])"
      ],
      "metadata": {
        "colab": {
          "base_uri": "https://localhost:8080/"
        },
        "id": "pHPpiS87HMRe",
        "outputId": "70589960-fcd0-47d7-b43c-9936c5f9eb0f"
      },
      "execution_count": null,
      "outputs": [
        {
          "output_type": "stream",
          "name": "stdout",
          "text": [
            "2017-01-01    140\n",
            "2017-01-02    144\n",
            "2017-01-03    148\n",
            "2017-01-04    152\n",
            "Freq: D, Name: Apple Price List, dtype: int64\n",
            "[2017-01-01    False\n",
            "2017-01-02    False\n",
            "2017-01-03    False\n",
            "2017-01-04    False\n",
            "2017-01-05     True\n",
            "2017-01-06     True\n",
            "2017-01-07     True\n",
            "2017-01-08     True\n",
            "Freq: D, Name: Apple Price List, dtype: bool]\n"
          ]
        }
      ]
    },
    {
      "cell_type": "markdown",
      "source": [
        "## 5 Pandas Resampling y DataFrames\n",
        "\n",
        "# Introducción\n",
        "En el último capítulo vislumbramos a los pandas. En este capítulo, aprenderemos sobre los métodos de remuestreo y el objeto DataFrame, que es una herramienta poderosa para el análisis de datos financieros.\n",
        "\n",
        "# Recuperacion de datos\n",
        "Aquí usamos Yahoo Finance para recuperar datos."
      ],
      "metadata": {
        "id": "qNtreXcOIa1f"
      }
    },
    {
      "cell_type": "code",
      "source": [
        "!pip install yfinance"
      ],
      "metadata": {
        "colab": {
          "base_uri": "https://localhost:8080/"
        },
        "id": "sUvNk-7DIiZv",
        "outputId": "b8354837-b6b0-4fb2-b7c2-b2ceae494334"
      },
      "execution_count": 7,
      "outputs": [
        {
          "output_type": "stream",
          "name": "stdout",
          "text": [
            "Collecting yfinance\n",
            "  Downloading yfinance-0.1.70-py2.py3-none-any.whl (26 kB)\n",
            "Requirement already satisfied: multitasking>=0.0.7 in /usr/local/lib/python3.7/dist-packages (from yfinance) (0.0.10)\n",
            "Requirement already satisfied: numpy>=1.15 in /usr/local/lib/python3.7/dist-packages (from yfinance) (1.21.5)\n",
            "Requirement already satisfied: pandas>=0.24.0 in /usr/local/lib/python3.7/dist-packages (from yfinance) (1.3.5)\n",
            "Collecting lxml>=4.5.1\n",
            "  Downloading lxml-4.8.0-cp37-cp37m-manylinux_2_17_x86_64.manylinux2014_x86_64.manylinux_2_24_x86_64.whl (6.4 MB)\n",
            "\u001b[K     |████████████████████████████████| 6.4 MB 30.7 MB/s \n",
            "\u001b[?25hCollecting requests>=2.26\n",
            "  Downloading requests-2.27.1-py2.py3-none-any.whl (63 kB)\n",
            "\u001b[K     |████████████████████████████████| 63 kB 1.9 MB/s \n",
            "\u001b[?25hRequirement already satisfied: python-dateutil>=2.7.3 in /usr/local/lib/python3.7/dist-packages (from pandas>=0.24.0->yfinance) (2.8.2)\n",
            "Requirement already satisfied: pytz>=2017.3 in /usr/local/lib/python3.7/dist-packages (from pandas>=0.24.0->yfinance) (2018.9)\n",
            "Requirement already satisfied: six>=1.5 in /usr/local/lib/python3.7/dist-packages (from python-dateutil>=2.7.3->pandas>=0.24.0->yfinance) (1.15.0)\n",
            "Requirement already satisfied: certifi>=2017.4.17 in /usr/local/lib/python3.7/dist-packages (from requests>=2.26->yfinance) (2021.10.8)\n",
            "Requirement already satisfied: urllib3<1.27,>=1.21.1 in /usr/local/lib/python3.7/dist-packages (from requests>=2.26->yfinance) (1.24.3)\n",
            "Requirement already satisfied: idna<4,>=2.5 in /usr/local/lib/python3.7/dist-packages (from requests>=2.26->yfinance) (2.10)\n",
            "Requirement already satisfied: charset-normalizer~=2.0.0 in /usr/local/lib/python3.7/dist-packages (from requests>=2.26->yfinance) (2.0.12)\n",
            "Installing collected packages: requests, lxml, yfinance\n",
            "  Attempting uninstall: requests\n",
            "    Found existing installation: requests 2.23.0\n",
            "    Uninstalling requests-2.23.0:\n",
            "      Successfully uninstalled requests-2.23.0\n",
            "  Attempting uninstall: lxml\n",
            "    Found existing installation: lxml 4.2.6\n",
            "    Uninstalling lxml-4.2.6:\n",
            "      Successfully uninstalled lxml-4.2.6\n",
            "\u001b[31mERROR: pip's dependency resolver does not currently take into account all the packages that are installed. This behaviour is the source of the following dependency conflicts.\n",
            "google-colab 1.0.0 requires requests~=2.23.0, but you have requests 2.27.1 which is incompatible.\n",
            "datascience 0.10.6 requires folium==0.2.1, but you have folium 0.8.3 which is incompatible.\u001b[0m\n",
            "Successfully installed lxml-4.8.0 requests-2.27.1 yfinance-0.1.70\n"
          ]
        }
      ]
    },
    {
      "cell_type": "code",
      "source": [
        "import yfinance as yf \n",
        "\n",
        "googl = yf.Ticker(\"GOOGL\")\n",
        "\n",
        "print(googl.info)\n",
        "\n",
        "google_table = googl.history(start=\"2016-01-01\",  end=\"2017-12-31\")\n",
        "google_table"
      ],
      "metadata": {
        "colab": {
          "base_uri": "https://localhost:8080/",
          "height": 492
        },
        "id": "Jp8ySuYfJBAz",
        "outputId": "a3640a4c-4c0b-4bb3-e9de-b5acc1c91e3f"
      },
      "execution_count": 8,
      "outputs": [
        {
          "output_type": "stream",
          "name": "stdout",
          "text": [
            "{'zip': '94043', 'sector': 'Communication Services', 'fullTimeEmployees': 156500, 'longBusinessSummary': 'Alphabet Inc. provides online advertising services in the United States, Europe, the Middle East, Africa, the Asia-Pacific, Canada, and Latin America. The company offers performance and brand advertising services. It operates through Google Services, Google Cloud, and Other Bets segments. The Google Services segment provides products and services, such as ads, Android, Chrome, Google Maps, Google Play, Search, and YouTube; subscription-based products; and Fitbit wearable devices, Google Nest home products, Pixel phones, and other devices, as well as in-app purchases and digital content. The Google Cloud segment offers infrastructure, platform, and other services; Google Workspace that include cloud-based collaboration tools for enterprises, such as Gmail, Docs, Drive, Calendar and Meet; and other services for enterprise customers. The Other Bets segment sells health technology and internet services, as well as licensing and research and development services. The company was incorporated in 1998 and is headquartered in Mountain View, California.', 'city': 'Mountain View', 'phone': '650 253 0000', 'state': 'CA', 'country': 'United States', 'companyOfficers': [], 'website': 'https://www.abc.xyz', 'maxAge': 1, 'address1': '1600 Amphitheatre Parkway', 'industry': 'Internet Content & Information', 'ebitdaMargins': 0.35377, 'profitMargins': 0.29512, 'grossMargins': 0.5694, 'operatingCashflow': 91651997696, 'revenueGrowth': 0.324, 'operatingMargins': 0.30552, 'ebitda': 91144003584, 'targetLowPrice': 2965, 'recommendationKey': 'buy', 'grossProfits': 146698000000, 'freeCashflow': 49490001920, 'targetMedianPrice': 3500, 'currentPrice': 2597.41, 'earningsGrowth': 0.377, 'currentRatio': 2.928, 'returnOnAssets': 0.14493, 'numberOfAnalystOpinions': 40, 'targetMeanPrice': 3460.04, 'debtToEquity': 11.329, 'returnOnEquity': 0.32069, 'targetHighPrice': 3900, 'totalCash': 139649007616, 'totalDebt': 28508000256, 'totalRevenue': 257637007360, 'totalCashPerShare': 211.278, 'financialCurrency': 'USD', 'revenuePerShare': 385.886, 'quickRatio': 2.8, 'recommendationMean': 1.7, 'exchange': 'NMS', 'shortName': 'Alphabet Inc.', 'longName': 'Alphabet Inc.', 'exchangeTimezoneName': 'America/New_York', 'exchangeTimezoneShortName': 'EST', 'isEsgPopulated': False, 'gmtOffSetMilliseconds': '-18000000', 'quoteType': 'EQUITY', 'symbol': 'GOOGL', 'messageBoardId': 'finmb_29096', 'market': 'us_market', 'annualHoldingsTurnover': None, 'enterpriseToRevenue': 6.364, 'beta3Year': None, 'enterpriseToEbitda': 17.988, '52WeekChange': 0.29199517, 'morningStarRiskRating': None, 'forwardEps': 135.8, 'revenueQuarterlyGrowth': None, 'sharesOutstanding': 300755008, 'fundInceptionDate': None, 'annualReportExpenseRatio': None, 'totalAssets': None, 'bookValue': 380.044, 'sharesShort': 2092312, 'sharesPercentSharesOut': 0.0032, 'fundFamily': None, 'lastFiscalYearEnd': 1640908800, 'heldPercentInstitutions': 0.80068, 'netIncomeToCommon': 76032999424, 'trailingEps': 112.197, 'lastDividendValue': None, 'SandP52WeekChange': 0.080180764, 'priceToBook': 6.834498, 'heldPercentInsiders': 0.077020004, 'nextFiscalYearEnd': 1703980800, 'yield': None, 'mostRecentQuarter': 1640908800, 'shortRatio': 0.88, 'sharesShortPreviousMonthDate': 1643587200, 'floatShares': 573571083, 'beta': 1.06496, 'enterpriseValue': 1639501004800, 'priceHint': 2, 'threeYearAverageReturn': None, 'lastSplitDate': 1396483200, 'lastSplitFactor': '1998:1000', 'legalType': None, 'lastDividendDate': None, 'morningStarOverallRating': None, 'earningsQuarterlyGrowth': 0.356, 'priceToSalesTrailing12Months': 6.669757, 'dateShortInterest': 1646006400, 'pegRatio': 1.62, 'ytdReturn': None, 'forwardPE': 19.12673, 'lastCapGain': None, 'shortPercentOfFloat': 0.0069999998, 'sharesShortPriorMonth': 2218071, 'impliedSharesOutstanding': 0, 'category': None, 'fiveYearAverageReturn': None, 'previousClose': 2648.59, 'regularMarketOpen': 2669.77, 'twoHundredDayAverage': 2731.4822, 'trailingAnnualDividendYield': 0, 'payoutRatio': 0, 'volume24Hr': None, 'regularMarketDayHigh': 2675.71, 'navPrice': None, 'averageDailyVolume10Day': 1649430, 'regularMarketPreviousClose': 2648.59, 'fiftyDayAverage': 2723.3052, 'trailingAnnualDividendRate': 0, 'open': 2669.77, 'toCurrency': None, 'averageVolume10days': 1649430, 'expireDate': None, 'algorithm': None, 'dividendRate': None, 'exDividendDate': None, 'circulatingSupply': None, 'startDate': None, 'regularMarketDayLow': 2592.63, 'currency': 'USD', 'trailingPE': 23.15044, 'regularMarketVolume': 1576322, 'lastMarket': None, 'maxSupply': None, 'openInterest': None, 'marketCap': 1718376202240, 'volumeAllCurrencies': None, 'strikePrice': None, 'averageVolume': 1909990, 'dayLow': 2592.63, 'ask': 2602, 'askSize': 2900, 'volume': 1576322, 'fiftyTwoWeekHigh': 3030.93, 'fromCurrency': None, 'fiveYearAvgDividendYield': None, 'fiftyTwoWeekLow': 1996.09, 'bid': 2598.02, 'tradeable': False, 'dividendYield': None, 'bidSize': 800, 'dayHigh': 2675.71, 'regularMarketPrice': 2597.41, 'preMarketPrice': 2666.41, 'logo_url': 'https://logo.clearbit.com/abc.xyz', 'trailingPegRatio': 0.944}\n"
          ]
        },
        {
          "output_type": "execute_result",
          "data": {
            "text/plain": [
              "                   Open         High          Low        Close   Volume  \\\n",
              "Date                                                                      \n",
              "2016-01-04   762.200012   762.200012   747.539978   759.440002  3369100   \n",
              "2016-01-05   764.099976   769.200012   755.650024   761.530029  2260800   \n",
              "2016-01-06   750.369995   765.729980   748.000000   759.330017  2410300   \n",
              "2016-01-07   746.489990   755.309998   735.280029   741.000000  3156600   \n",
              "2016-01-08   747.799988   750.119995   728.919983   730.909973  2375300   \n",
              "...                 ...          ...          ...          ...      ...   \n",
              "2017-12-22  1070.000000  1071.719971  1067.640015  1068.859985   889400   \n",
              "2017-12-26  1068.640015  1068.859985  1058.640015  1065.849976   918800   \n",
              "2017-12-27  1066.599976  1068.270020  1058.380005  1060.199951  1116200   \n",
              "2017-12-28  1062.250000  1064.839966  1053.380005  1055.949951   994200   \n",
              "2017-12-29  1055.489990  1058.050049  1052.699951  1053.400024  1180300   \n",
              "\n",
              "            Dividends  Stock Splits  \n",
              "Date                                 \n",
              "2016-01-04          0             0  \n",
              "2016-01-05          0             0  \n",
              "2016-01-06          0             0  \n",
              "2016-01-07          0             0  \n",
              "2016-01-08          0             0  \n",
              "...               ...           ...  \n",
              "2017-12-22          0             0  \n",
              "2017-12-26          0             0  \n",
              "2017-12-27          0             0  \n",
              "2017-12-28          0             0  \n",
              "2017-12-29          0             0  \n",
              "\n",
              "[503 rows x 7 columns]"
            ],
            "text/html": [
              "\n",
              "  <div id=\"df-e61fc782-00a3-467c-b6f8-7f658650ced0\">\n",
              "    <div class=\"colab-df-container\">\n",
              "      <div>\n",
              "<style scoped>\n",
              "    .dataframe tbody tr th:only-of-type {\n",
              "        vertical-align: middle;\n",
              "    }\n",
              "\n",
              "    .dataframe tbody tr th {\n",
              "        vertical-align: top;\n",
              "    }\n",
              "\n",
              "    .dataframe thead th {\n",
              "        text-align: right;\n",
              "    }\n",
              "</style>\n",
              "<table border=\"1\" class=\"dataframe\">\n",
              "  <thead>\n",
              "    <tr style=\"text-align: right;\">\n",
              "      <th></th>\n",
              "      <th>Open</th>\n",
              "      <th>High</th>\n",
              "      <th>Low</th>\n",
              "      <th>Close</th>\n",
              "      <th>Volume</th>\n",
              "      <th>Dividends</th>\n",
              "      <th>Stock Splits</th>\n",
              "    </tr>\n",
              "    <tr>\n",
              "      <th>Date</th>\n",
              "      <th></th>\n",
              "      <th></th>\n",
              "      <th></th>\n",
              "      <th></th>\n",
              "      <th></th>\n",
              "      <th></th>\n",
              "      <th></th>\n",
              "    </tr>\n",
              "  </thead>\n",
              "  <tbody>\n",
              "    <tr>\n",
              "      <th>2016-01-04</th>\n",
              "      <td>762.200012</td>\n",
              "      <td>762.200012</td>\n",
              "      <td>747.539978</td>\n",
              "      <td>759.440002</td>\n",
              "      <td>3369100</td>\n",
              "      <td>0</td>\n",
              "      <td>0</td>\n",
              "    </tr>\n",
              "    <tr>\n",
              "      <th>2016-01-05</th>\n",
              "      <td>764.099976</td>\n",
              "      <td>769.200012</td>\n",
              "      <td>755.650024</td>\n",
              "      <td>761.530029</td>\n",
              "      <td>2260800</td>\n",
              "      <td>0</td>\n",
              "      <td>0</td>\n",
              "    </tr>\n",
              "    <tr>\n",
              "      <th>2016-01-06</th>\n",
              "      <td>750.369995</td>\n",
              "      <td>765.729980</td>\n",
              "      <td>748.000000</td>\n",
              "      <td>759.330017</td>\n",
              "      <td>2410300</td>\n",
              "      <td>0</td>\n",
              "      <td>0</td>\n",
              "    </tr>\n",
              "    <tr>\n",
              "      <th>2016-01-07</th>\n",
              "      <td>746.489990</td>\n",
              "      <td>755.309998</td>\n",
              "      <td>735.280029</td>\n",
              "      <td>741.000000</td>\n",
              "      <td>3156600</td>\n",
              "      <td>0</td>\n",
              "      <td>0</td>\n",
              "    </tr>\n",
              "    <tr>\n",
              "      <th>2016-01-08</th>\n",
              "      <td>747.799988</td>\n",
              "      <td>750.119995</td>\n",
              "      <td>728.919983</td>\n",
              "      <td>730.909973</td>\n",
              "      <td>2375300</td>\n",
              "      <td>0</td>\n",
              "      <td>0</td>\n",
              "    </tr>\n",
              "    <tr>\n",
              "      <th>...</th>\n",
              "      <td>...</td>\n",
              "      <td>...</td>\n",
              "      <td>...</td>\n",
              "      <td>...</td>\n",
              "      <td>...</td>\n",
              "      <td>...</td>\n",
              "      <td>...</td>\n",
              "    </tr>\n",
              "    <tr>\n",
              "      <th>2017-12-22</th>\n",
              "      <td>1070.000000</td>\n",
              "      <td>1071.719971</td>\n",
              "      <td>1067.640015</td>\n",
              "      <td>1068.859985</td>\n",
              "      <td>889400</td>\n",
              "      <td>0</td>\n",
              "      <td>0</td>\n",
              "    </tr>\n",
              "    <tr>\n",
              "      <th>2017-12-26</th>\n",
              "      <td>1068.640015</td>\n",
              "      <td>1068.859985</td>\n",
              "      <td>1058.640015</td>\n",
              "      <td>1065.849976</td>\n",
              "      <td>918800</td>\n",
              "      <td>0</td>\n",
              "      <td>0</td>\n",
              "    </tr>\n",
              "    <tr>\n",
              "      <th>2017-12-27</th>\n",
              "      <td>1066.599976</td>\n",
              "      <td>1068.270020</td>\n",
              "      <td>1058.380005</td>\n",
              "      <td>1060.199951</td>\n",
              "      <td>1116200</td>\n",
              "      <td>0</td>\n",
              "      <td>0</td>\n",
              "    </tr>\n",
              "    <tr>\n",
              "      <th>2017-12-28</th>\n",
              "      <td>1062.250000</td>\n",
              "      <td>1064.839966</td>\n",
              "      <td>1053.380005</td>\n",
              "      <td>1055.949951</td>\n",
              "      <td>994200</td>\n",
              "      <td>0</td>\n",
              "      <td>0</td>\n",
              "    </tr>\n",
              "    <tr>\n",
              "      <th>2017-12-29</th>\n",
              "      <td>1055.489990</td>\n",
              "      <td>1058.050049</td>\n",
              "      <td>1052.699951</td>\n",
              "      <td>1053.400024</td>\n",
              "      <td>1180300</td>\n",
              "      <td>0</td>\n",
              "      <td>0</td>\n",
              "    </tr>\n",
              "  </tbody>\n",
              "</table>\n",
              "<p>503 rows × 7 columns</p>\n",
              "</div>\n",
              "      <button class=\"colab-df-convert\" onclick=\"convertToInteractive('df-e61fc782-00a3-467c-b6f8-7f658650ced0')\"\n",
              "              title=\"Convert this dataframe to an interactive table.\"\n",
              "              style=\"display:none;\">\n",
              "        \n",
              "  <svg xmlns=\"http://www.w3.org/2000/svg\" height=\"24px\"viewBox=\"0 0 24 24\"\n",
              "       width=\"24px\">\n",
              "    <path d=\"M0 0h24v24H0V0z\" fill=\"none\"/>\n",
              "    <path d=\"M18.56 5.44l.94 2.06.94-2.06 2.06-.94-2.06-.94-.94-2.06-.94 2.06-2.06.94zm-11 1L8.5 8.5l.94-2.06 2.06-.94-2.06-.94L8.5 2.5l-.94 2.06-2.06.94zm10 10l.94 2.06.94-2.06 2.06-.94-2.06-.94-.94-2.06-.94 2.06-2.06.94z\"/><path d=\"M17.41 7.96l-1.37-1.37c-.4-.4-.92-.59-1.43-.59-.52 0-1.04.2-1.43.59L10.3 9.45l-7.72 7.72c-.78.78-.78 2.05 0 2.83L4 21.41c.39.39.9.59 1.41.59.51 0 1.02-.2 1.41-.59l7.78-7.78 2.81-2.81c.8-.78.8-2.07 0-2.86zM5.41 20L4 18.59l7.72-7.72 1.47 1.35L5.41 20z\"/>\n",
              "  </svg>\n",
              "      </button>\n",
              "      \n",
              "  <style>\n",
              "    .colab-df-container {\n",
              "      display:flex;\n",
              "      flex-wrap:wrap;\n",
              "      gap: 12px;\n",
              "    }\n",
              "\n",
              "    .colab-df-convert {\n",
              "      background-color: #E8F0FE;\n",
              "      border: none;\n",
              "      border-radius: 50%;\n",
              "      cursor: pointer;\n",
              "      display: none;\n",
              "      fill: #1967D2;\n",
              "      height: 32px;\n",
              "      padding: 0 0 0 0;\n",
              "      width: 32px;\n",
              "    }\n",
              "\n",
              "    .colab-df-convert:hover {\n",
              "      background-color: #E2EBFA;\n",
              "      box-shadow: 0px 1px 2px rgba(60, 64, 67, 0.3), 0px 1px 3px 1px rgba(60, 64, 67, 0.15);\n",
              "      fill: #174EA6;\n",
              "    }\n",
              "\n",
              "    [theme=dark] .colab-df-convert {\n",
              "      background-color: #3B4455;\n",
              "      fill: #D2E3FC;\n",
              "    }\n",
              "\n",
              "    [theme=dark] .colab-df-convert:hover {\n",
              "      background-color: #434B5C;\n",
              "      box-shadow: 0px 1px 3px 1px rgba(0, 0, 0, 0.15);\n",
              "      filter: drop-shadow(0px 1px 2px rgba(0, 0, 0, 0.3));\n",
              "      fill: #FFFFFF;\n",
              "    }\n",
              "  </style>\n",
              "\n",
              "      <script>\n",
              "        const buttonEl =\n",
              "          document.querySelector('#df-e61fc782-00a3-467c-b6f8-7f658650ced0 button.colab-df-convert');\n",
              "        buttonEl.style.display =\n",
              "          google.colab.kernel.accessAllowed ? 'block' : 'none';\n",
              "\n",
              "        async function convertToInteractive(key) {\n",
              "          const element = document.querySelector('#df-e61fc782-00a3-467c-b6f8-7f658650ced0');\n",
              "          const dataTable =\n",
              "            await google.colab.kernel.invokeFunction('convertToInteractive',\n",
              "                                                     [key], {});\n",
              "          if (!dataTable) return;\n",
              "\n",
              "          const docLinkHtml = 'Like what you see? Visit the ' +\n",
              "            '<a target=\"_blank\" href=https://colab.research.google.com/notebooks/data_table.ipynb>data table notebook</a>'\n",
              "            + ' to learn more about interactive tables.';\n",
              "          element.innerHTML = '';\n",
              "          dataTable['output_type'] = 'display_data';\n",
              "          await google.colab.output.renderOutput(dataTable, element);\n",
              "          const docLink = document.createElement('div');\n",
              "          docLink.innerHTML = docLinkHtml;\n",
              "          element.appendChild(docLink);\n",
              "        }\n",
              "      </script>\n",
              "    </div>\n",
              "  </div>\n",
              "  "
            ]
          },
          "metadata": {},
          "execution_count": 8
        }
      ]
    },
    {
      "cell_type": "markdown",
      "source": [
        "Crearemos una serie cuyos valores corresponden a los precios de cierre de las acciones de Google.\n"
      ],
      "metadata": {
        "id": "sq3wN4ycJkHU"
      }
    },
    {
      "cell_type": "code",
      "source": [
        "google = google_table['Close']['2017']\n",
        "print(google)"
      ],
      "metadata": {
        "colab": {
          "base_uri": "https://localhost:8080/"
        },
        "id": "s5JIorMvJo5l",
        "outputId": "bc4a14ca-31ef-486b-8d60-0eb8a8d30b69"
      },
      "execution_count": 4,
      "outputs": [
        {
          "output_type": "stream",
          "name": "stdout",
          "text": [
            "Date\n",
            "2017-01-03     808.010010\n",
            "2017-01-04     807.770020\n",
            "2017-01-05     813.020020\n",
            "2017-01-06     825.210022\n",
            "2017-01-09     827.179993\n",
            "                 ...     \n",
            "2017-12-22    1068.859985\n",
            "2017-12-26    1065.849976\n",
            "2017-12-27    1060.199951\n",
            "2017-12-28    1055.949951\n",
            "2017-12-29    1053.400024\n",
            "Name: Close, Length: 251, dtype: float64\n"
          ]
        }
      ]
    },
    {
      "cell_type": "code",
      "source": [
        "# Podemos filtrar tambien por mes\n",
        "print(google['2017-03'])"
      ],
      "metadata": {
        "colab": {
          "base_uri": "https://localhost:8080/"
        },
        "id": "QlIaHNp_J2mV",
        "outputId": "ea7d3357-d798-409f-f894-069208263731"
      },
      "execution_count": 5,
      "outputs": [
        {
          "output_type": "stream",
          "name": "stdout",
          "text": [
            "Date\n",
            "2017-03-01    856.750000\n",
            "2017-03-02    849.849976\n",
            "2017-03-03    849.080017\n",
            "2017-03-06    847.270020\n",
            "2017-03-07    851.150024\n",
            "2017-03-08    853.640015\n",
            "2017-03-09    857.840027\n",
            "2017-03-10    861.409973\n",
            "2017-03-13    864.580017\n",
            "2017-03-14    865.909973\n",
            "2017-03-15    868.390015\n",
            "2017-03-16    870.000000\n",
            "2017-03-17    872.369995\n",
            "2017-03-20    867.909973\n",
            "2017-03-21    850.140015\n",
            "2017-03-22    849.799988\n",
            "2017-03-23    839.650024\n",
            "2017-03-24    835.140015\n",
            "2017-03-27    838.510010\n",
            "2017-03-28    840.630005\n",
            "2017-03-29    849.869995\n",
            "2017-03-30    849.479980\n",
            "2017-03-31    847.799988\n",
            "Name: Close, dtype: float64\n"
          ]
        }
      ]
    },
    {
      "cell_type": "code",
      "source": [
        "# Podemos filtrar tambien por un rango de meses\n",
        "print(google['2017-03':'2017-4'])"
      ],
      "metadata": {
        "colab": {
          "base_uri": "https://localhost:8080/"
        },
        "id": "9J0nNSRDKAKb",
        "outputId": "953ed5a0-870e-4778-edd9-12516cfd45d3"
      },
      "execution_count": 6,
      "outputs": [
        {
          "output_type": "stream",
          "name": "stdout",
          "text": [
            "Date\n",
            "2017-03-01    856.750000\n",
            "2017-03-02    849.849976\n",
            "2017-03-03    849.080017\n",
            "2017-03-06    847.270020\n",
            "2017-03-07    851.150024\n",
            "2017-03-08    853.640015\n",
            "2017-03-09    857.840027\n",
            "2017-03-10    861.409973\n",
            "2017-03-13    864.580017\n",
            "2017-03-14    865.909973\n",
            "2017-03-15    868.390015\n",
            "2017-03-16    870.000000\n",
            "2017-03-17    872.369995\n",
            "2017-03-20    867.909973\n",
            "2017-03-21    850.140015\n",
            "2017-03-22    849.799988\n",
            "2017-03-23    839.650024\n",
            "2017-03-24    835.140015\n",
            "2017-03-27    838.510010\n",
            "2017-03-28    840.630005\n",
            "2017-03-29    849.869995\n",
            "2017-03-30    849.479980\n",
            "2017-03-31    847.799988\n",
            "2017-04-03    856.750000\n",
            "2017-04-04    852.570007\n",
            "2017-04-05    848.909973\n",
            "2017-04-06    845.099976\n",
            "2017-04-07    842.099976\n",
            "2017-04-10    841.700012\n",
            "2017-04-11    839.880005\n",
            "2017-04-12    841.460022\n",
            "2017-04-13    840.179993\n",
            "2017-04-17    855.130005\n",
            "2017-04-18    853.989990\n",
            "2017-04-19    856.510010\n",
            "2017-04-20    860.080017\n",
            "2017-04-21    858.950012\n",
            "2017-04-24    878.929993\n",
            "2017-04-25    888.840027\n",
            "2017-04-26    889.140015\n",
            "2017-04-27    891.440002\n",
            "2017-04-28    924.520020\n",
            "Name: Close, dtype: float64\n"
          ]
        }
      ]
    },
    {
      "cell_type": "markdown",
      "source": [
        "Los metodos head y tail nos permiten acceder a los primeros elementos y los ultimo elementos\n"
      ],
      "metadata": {
        "id": "FNf82OvMJy2l"
      }
    },
    {
      "cell_type": "code",
      "source": [
        "print(google.head(5), google.tail(5), sep='\\n')"
      ],
      "metadata": {
        "colab": {
          "base_uri": "https://localhost:8080/"
        },
        "id": "GHMV8IIgKN96",
        "outputId": "3ef3605a-f778-4283-9d50-8dd0fe61672e"
      },
      "execution_count": 7,
      "outputs": [
        {
          "output_type": "stream",
          "name": "stdout",
          "text": [
            "Date\n",
            "2017-01-03    808.010010\n",
            "2017-01-04    807.770020\n",
            "2017-01-05    813.020020\n",
            "2017-01-06    825.210022\n",
            "2017-01-09    827.179993\n",
            "Name: Close, dtype: float64\n",
            "Date\n",
            "2017-12-22    1068.859985\n",
            "2017-12-26    1065.849976\n",
            "2017-12-27    1060.199951\n",
            "2017-12-28    1055.949951\n",
            "2017-12-29    1053.400024\n",
            "Name: Close, dtype: float64\n"
          ]
        }
      ]
    },
    {
      "cell_type": "markdown",
      "source": [
        "### Resampling \n",
        "\n",
        "Para este caso se reagrupan los datos en una serie en intervalos de tiempo regulares. El argumento de freq, permite establecer la longitud de los intervalos. \n",
        "\n",
        "Para realizar el resampling es posible acceder a funciones como mean() a traves de las cuales se agregan los datos en el marco del intervalo"
      ],
      "metadata": {
        "id": "j8Sa76tLKaBi"
      }
    },
    {
      "cell_type": "code",
      "source": [
        "# Podemos agrupar por mes y por promedio\n",
        "by_month = google.resample('M').mean()\n",
        "print(by_month)\n",
        "\n",
        "# O agrupar por semana\n",
        "by_week = google.resample('M').mean()\n",
        "print(by_week)\n",
        "\n",
        "# Podemos agrupar por la funcion max\n",
        "google.resample('M').max()"
      ],
      "metadata": {
        "colab": {
          "base_uri": "https://localhost:8080/"
        },
        "id": "edhOW_7OKrg0",
        "outputId": "3a5e9e9b-203d-48fa-c3f3-b1e4bad1dc8b"
      },
      "execution_count": 10,
      "outputs": [
        {
          "output_type": "stream",
          "name": "stdout",
          "text": [
            "Date\n",
            "2017-01-31     830.249509\n",
            "2017-02-28     836.754735\n",
            "2017-03-31     853.790002\n",
            "2017-04-30     861.377898\n",
            "2017-05-31     961.654549\n",
            "2017-06-30     973.368638\n",
            "2017-07-31     963.443506\n",
            "2017-08-31     937.960874\n",
            "2017-09-30     945.884497\n",
            "2017-10-31     999.145006\n",
            "2017-11-30    1046.983346\n",
            "2017-12-31    1053.917487\n",
            "Freq: M, Name: Close, dtype: float64\n",
            "Date\n",
            "2017-01-31     830.249509\n",
            "2017-02-28     836.754735\n",
            "2017-03-31     853.790002\n",
            "2017-04-30     861.377898\n",
            "2017-05-31     961.654549\n",
            "2017-06-30     973.368638\n",
            "2017-07-31     963.443506\n",
            "2017-08-31     937.960874\n",
            "2017-09-30     945.884497\n",
            "2017-10-31     999.145006\n",
            "2017-11-30    1046.983346\n",
            "2017-12-31    1053.917487\n",
            "Freq: M, Name: Close, dtype: float64\n"
          ]
        },
        {
          "output_type": "execute_result",
          "data": {
            "text/plain": [
              "Date\n",
              "2017-01-31     858.450012\n",
              "2017-02-28     851.359985\n",
              "2017-03-31     872.369995\n",
              "2017-04-30     924.520020\n",
              "2017-05-31     996.169983\n",
              "2017-06-30    1004.280029\n",
              "2017-07-31     998.309998\n",
              "2017-08-31     955.239990\n",
              "2017-09-30     973.719971\n",
              "2017-10-31    1033.670044\n",
              "2017-11-30    1072.010010\n",
              "2017-12-31    1085.089966\n",
              "Freq: M, Name: Close, dtype: float64"
            ]
          },
          "metadata": {},
          "execution_count": 10
        }
      ]
    },
    {
      "cell_type": "code",
      "source": [
        "# Podemos agrupar por multiplos de los periodos mostrados anteriormente, por ejemplo 2 semanas\n",
        "two_month = google.resample('2M').mean()\n",
        "print(two_month)"
      ],
      "metadata": {
        "colab": {
          "base_uri": "https://localhost:8080/"
        },
        "id": "z0TPd4wfLMXX",
        "outputId": "20aa6005-dfbb-4e57-8f7d-fd81490f79e1"
      },
      "execution_count": 11,
      "outputs": [
        {
          "output_type": "stream",
          "name": "stdout",
          "text": [
            "Date\n",
            "2017-01-31     830.249509\n",
            "2017-03-31     846.083572\n",
            "2017-05-31     915.184881\n",
            "2017-07-31     968.642385\n",
            "2017-09-30     941.646280\n",
            "2017-11-30    1022.507916\n",
            "2018-01-31    1053.917487\n",
            "Freq: 2M, Name: Close, dtype: float64\n"
          ]
        }
      ]
    },
    {
      "cell_type": "markdown",
      "source": [
        "Junto al metodo mean y max es posible usar el metodo _min()_ y el metodo _std()_"
      ],
      "metadata": {
        "id": "SOWQi1lMLZuW"
      }
    },
    {
      "cell_type": "markdown",
      "source": [
        "Ahora, es posible usar una funcion de agregacion para administrar los datos como se muestra a continuacion"
      ],
      "metadata": {
        "id": "kozuRfiYMPWm"
      }
    },
    {
      "cell_type": "code",
      "source": [
        "# Se ejecuta resampling en periodos de meses usando una funcion lambda\n",
        "last_day = google.resample('M').agg(lambda x: x[-1])\n",
        "print(last_day)"
      ],
      "metadata": {
        "colab": {
          "base_uri": "https://localhost:8080/"
        },
        "id": "RT2fnMM3M8qK",
        "outputId": "b8e4d2e6-bb23-40cd-9480-f12cb798eba8"
      },
      "execution_count": 16,
      "outputs": [
        {
          "output_type": "stream",
          "name": "stdout",
          "text": [
            "Date\n",
            "2017-01-31     820.190002\n",
            "2017-02-28     844.929993\n",
            "2017-03-31     847.799988\n",
            "2017-04-30     924.520020\n",
            "2017-05-31     987.090027\n",
            "2017-06-30     929.679993\n",
            "2017-07-31     945.500000\n",
            "2017-08-31     955.239990\n",
            "2017-09-30     973.719971\n",
            "2017-10-31    1033.040039\n",
            "2017-11-30    1036.170044\n",
            "2017-12-31    1053.400024\n",
            "Freq: M, Name: Close, dtype: float64\n"
          ]
        }
      ]
    },
    {
      "cell_type": "code",
      "source": [
        "monthly_return = google.resample('M').agg(lambda x:x[-1]/x[0] - 1)\n",
        "print(monthly_return)"
      ],
      "metadata": {
        "colab": {
          "base_uri": "https://localhost:8080/"
        },
        "id": "_peTscuYMX0c",
        "outputId": "1cfee254-4fd4-4299-bcc2-af5025be7e9a"
      },
      "execution_count": 12,
      "outputs": [
        {
          "output_type": "stream",
          "name": "stdout",
          "text": [
            "Date\n",
            "2017-01-31    0.015074\n",
            "2017-02-28    0.036419\n",
            "2017-03-31   -0.010446\n",
            "2017-04-30    0.079101\n",
            "2017-05-31    0.058178\n",
            "2017-06-30   -0.059304\n",
            "2017-07-31    0.028321\n",
            "2017-08-31    0.009170\n",
            "2017-09-30    0.022826\n",
            "2017-10-31    0.067775\n",
            "2017-11-30   -0.006167\n",
            "2017-12-31    0.027637\n",
            "Freq: M, Name: Close, dtype: float64\n"
          ]
        }
      ]
    },
    {
      "cell_type": "code",
      "source": [
        "# De nuevo podemos usar funciones de promedio, desviacion y maximo \n",
        "print(monthly_return.mean())\n",
        "print(monthly_return.std())\n",
        "print(monthly_return.max())"
      ],
      "metadata": {
        "colab": {
          "base_uri": "https://localhost:8080/"
        },
        "id": "OwjobFuBMtZf",
        "outputId": "12c4c6fe-40a8-48a1-cf8e-5258bfae0827"
      },
      "execution_count": 13,
      "outputs": [
        {
          "output_type": "stream",
          "name": "stdout",
          "text": [
            "0.02238193569572126\n",
            "0.03767382052951203\n",
            "0.07910127753866347\n"
          ]
        }
      ]
    },
    {
      "cell_type": "markdown",
      "source": [
        "Se pueden calcular tambien diferencias entre elementos consecutivos tanto en valor numerico como en terminos porcentuales\n"
      ],
      "metadata": {
        "id": "x35Em7m9MyzU"
      }
    },
    {
      "cell_type": "code",
      "source": [
        "print(last_day.diff())\n",
        "print(last_day.pct_change())"
      ],
      "metadata": {
        "colab": {
          "base_uri": "https://localhost:8080/"
        },
        "id": "RKYvoG2kM4q0",
        "outputId": "383eb6fe-54c9-4d0f-a552-071e873c8b27"
      },
      "execution_count": 17,
      "outputs": [
        {
          "output_type": "stream",
          "name": "stdout",
          "text": [
            "Date\n",
            "2017-01-31          NaN\n",
            "2017-02-28    24.739990\n",
            "2017-03-31     2.869995\n",
            "2017-04-30    76.720032\n",
            "2017-05-31    62.570007\n",
            "2017-06-30   -57.410034\n",
            "2017-07-31    15.820007\n",
            "2017-08-31     9.739990\n",
            "2017-09-30    18.479980\n",
            "2017-10-31    59.320068\n",
            "2017-11-30     3.130005\n",
            "2017-12-31    17.229980\n",
            "Freq: M, Name: Close, dtype: float64\n",
            "Date\n",
            "2017-01-31         NaN\n",
            "2017-02-28    0.030164\n",
            "2017-03-31    0.003397\n",
            "2017-04-30    0.090493\n",
            "2017-05-31    0.067678\n",
            "2017-06-30   -0.058161\n",
            "2017-07-31    0.017017\n",
            "2017-08-31    0.010301\n",
            "2017-09-30    0.019346\n",
            "2017-10-31    0.060921\n",
            "2017-11-30    0.003030\n",
            "2017-12-31    0.016629\n",
            "Freq: M, Name: Close, dtype: float64\n"
          ]
        }
      ]
    },
    {
      "cell_type": "markdown",
      "source": [
        "En ocasiones, ocurren situaciones donde no hay un numero, en este caso podemos reemplazarlos por 0."
      ],
      "metadata": {
        "id": "557VrguFNIHi"
      }
    },
    {
      "cell_type": "code",
      "source": [
        "daily_return = last_day.pct_change()\n",
        "print(daily_return.fillna(0))"
      ],
      "metadata": {
        "colab": {
          "base_uri": "https://localhost:8080/"
        },
        "id": "H-KkMu2dNNnP",
        "outputId": "e3045e5b-2112-45aa-ab47-c8132d408dfd"
      },
      "execution_count": 18,
      "outputs": [
        {
          "output_type": "stream",
          "name": "stdout",
          "text": [
            "Date\n",
            "2017-01-31    0.000000\n",
            "2017-02-28    0.030164\n",
            "2017-03-31    0.003397\n",
            "2017-04-30    0.090493\n",
            "2017-05-31    0.067678\n",
            "2017-06-30   -0.058161\n",
            "2017-07-31    0.017017\n",
            "2017-08-31    0.010301\n",
            "2017-09-30    0.019346\n",
            "2017-10-31    0.060921\n",
            "2017-11-30    0.003030\n",
            "2017-12-31    0.016629\n",
            "Freq: M, Name: Close, dtype: float64\n"
          ]
        }
      ]
    },
    {
      "cell_type": "markdown",
      "source": [
        "Tambien es posible llenar los NaN con el siguiente valor ajustado. Este proceso se conoce como llenado hacia atras"
      ],
      "metadata": {
        "id": "H-Jodm9eNS0u"
      }
    },
    {
      "cell_type": "code",
      "source": [
        "daily_return = last_day.pct_change()\n",
        "print(daily_return.fillna(method = 'bfill'))"
      ],
      "metadata": {
        "colab": {
          "base_uri": "https://localhost:8080/"
        },
        "id": "W-8WUfDWNROb",
        "outputId": "8126a897-1dee-4769-b226-75adbb826520"
      },
      "execution_count": 19,
      "outputs": [
        {
          "output_type": "stream",
          "name": "stdout",
          "text": [
            "Date\n",
            "2017-01-31    0.030164\n",
            "2017-02-28    0.030164\n",
            "2017-03-31    0.003397\n",
            "2017-04-30    0.090493\n",
            "2017-05-31    0.067678\n",
            "2017-06-30   -0.058161\n",
            "2017-07-31    0.017017\n",
            "2017-08-31    0.010301\n",
            "2017-09-30    0.019346\n",
            "2017-10-31    0.060921\n",
            "2017-11-30    0.003030\n",
            "2017-12-31    0.016629\n",
            "Freq: M, Name: Close, dtype: float64\n"
          ]
        }
      ]
    },
    {
      "cell_type": "markdown",
      "source": [
        "Es posible tambien solo eliminar los NaN"
      ],
      "metadata": {
        "id": "ldzBDdfJNizP"
      }
    },
    {
      "cell_type": "code",
      "metadata": {
        "colab": {
          "base_uri": "https://localhost:8080/"
        },
        "id": "WG5ux1lqHW9-",
        "outputId": "7acb72a7-6381-4d7e-907e-496fc64fccbf"
      },
      "source": [
        "daily_return = last_day.pct_change()\n",
        "daily_return.dropna()"
      ],
      "execution_count": 21,
      "outputs": [
        {
          "output_type": "execute_result",
          "data": {
            "text/plain": [
              "Date\n",
              "2017-02-28    0.030164\n",
              "2017-03-31    0.003397\n",
              "2017-04-30    0.090493\n",
              "2017-05-31    0.067678\n",
              "2017-06-30   -0.058161\n",
              "2017-07-31    0.017017\n",
              "2017-08-31    0.010301\n",
              "2017-09-30    0.019346\n",
              "2017-10-31    0.060921\n",
              "2017-11-30    0.003030\n",
              "2017-12-31    0.016629\n",
              "Freq: M, Name: Close, dtype: float64"
            ]
          },
          "metadata": {},
          "execution_count": 21
        }
      ]
    },
    {
      "cell_type": "markdown",
      "source": [
        "### Dataframe\n",
        "\n",
        "Es la estructura de datos mas utilizada en pandas, en escencia es una tabla. \n",
        "\n",
        "Es una coleccion de objetos tipo Serie, de las cuales cada una puede contener diferentes tipos de datos. \n",
        "\n",
        "#### Crear un DataFrame"
      ],
      "metadata": {
        "id": "-Wixt3IwsgV_"
      }
    },
    {
      "cell_type": "code",
      "source": [
        "import pandas as pd \n",
        "\n",
        "dict = {'AAPL': [143.5, 144.09, 142.73, 144.18, 143.77],'GOOG':[898.7, 911.71, 906.69, 918.59, 926.99],\n",
        "        'IBM':[155.58, 153.67, 152.36, 152.94, 153.49]}\n",
        "data_index = pd.date_range('2017-07-03',periods = 5, freq = 'D')\n",
        "df = pd.DataFrame(dict, index = data_index)\n",
        "print(df)\n"
      ],
      "metadata": {
        "colab": {
          "base_uri": "https://localhost:8080/"
        },
        "id": "m4Er5Zu8Nd2d",
        "outputId": "34c2101d-2876-4312-9da7-3e3381d2eb76"
      },
      "execution_count": 1,
      "outputs": [
        {
          "output_type": "stream",
          "name": "stdout",
          "text": [
            "              AAPL    GOOG     IBM\n",
            "2017-07-03  143.50  898.70  155.58\n",
            "2017-07-04  144.09  911.71  153.67\n",
            "2017-07-05  142.73  906.69  152.36\n",
            "2017-07-06  144.18  918.59  152.94\n",
            "2017-07-07  143.77  926.99  153.49\n"
          ]
        }
      ]
    },
    {
      "cell_type": "markdown",
      "source": [
        "#### Manipular un DataFrame\n",
        "\n",
        "Podemos acceder a los valores a traves de columnas y el indice. Cada columna es una serie, de modo que podemos acceder a ella usando [ ]. "
      ],
      "metadata": {
        "id": "QnphHX5_tE5t"
      }
    },
    {
      "cell_type": "code",
      "source": [
        "df = google_table\n",
        "# Extraemos lis ultimos valores de los precios de cierre y el volumen de acciones\n",
        "print(df.Close.tail(5))\n",
        "print(df['Volume'].tail(5))"
      ],
      "metadata": {
        "colab": {
          "base_uri": "https://localhost:8080/"
        },
        "id": "9vjBTZ4KtPqj",
        "outputId": "b61f9d28-3e23-473f-d80d-e0bf53f7dc08"
      },
      "execution_count": 9,
      "outputs": [
        {
          "output_type": "stream",
          "name": "stdout",
          "text": [
            "Date\n",
            "2017-12-22    1068.859985\n",
            "2017-12-26    1065.849976\n",
            "2017-12-27    1060.199951\n",
            "2017-12-28    1055.949951\n",
            "2017-12-29    1053.400024\n",
            "Name: Close, dtype: float64\n",
            "Date\n",
            "2017-12-22     889400\n",
            "2017-12-26     918800\n",
            "2017-12-27    1116200\n",
            "2017-12-28     994200\n",
            "2017-12-29    1180300\n",
            "Name: Volume, dtype: int64\n"
          ]
        }
      ]
    },
    {
      "cell_type": "code",
      "source": [
        "# Accedemos a la columna 2016 y aplicamos las funciones lambda con agg\n",
        "google_2016 = df['2016']\n",
        "google_month = google_2016.resample('M').agg(lambda x: x[-1])\n",
        "print(google_month)"
      ],
      "metadata": {
        "colab": {
          "base_uri": "https://localhost:8080/"
        },
        "id": "0eFZEbtYtyrL",
        "outputId": "7689b185-f24f-45ad-fd15-86b3524f9f54"
      },
      "execution_count": 10,
      "outputs": [
        {
          "output_type": "stream",
          "name": "stdout",
          "text": [
            "                  Open        High         Low       Close   Volume  \\\n",
            "Date                                                                  \n",
            "2016-01-31  748.960022  765.109985  744.200012  761.349976  3790400   \n",
            "2016-02-29  721.000000  730.599976  716.840027  717.219971  2253400   \n",
            "2016-03-31  768.340027  769.080017  758.250000  762.900024  1627700   \n",
            "2016-04-30  704.119995  712.109985  703.780029  707.880005  2913900   \n",
            "2016-05-31  748.760010  753.479980  745.570007  748.849976  2124200   \n",
            "2016-06-30  697.650024  703.770020  694.900024  703.530029  2112500   \n",
            "2016-07-31  797.710022  803.940002  790.000000  791.340027  5090500   \n",
            "2016-08-31  789.599976  791.570007  787.200012  789.849976  1071400   \n",
            "2016-09-30  803.599976  808.090027  801.500000  804.059998  1660200   \n",
            "2016-10-31  822.429993  822.630005  808.000000  809.900024  2242700   \n",
            "2016-11-30  789.099976  791.510010  773.150024  775.880005  2279100   \n",
            "2016-12-31  803.210022  803.289978  789.619995  792.450012  1735900   \n",
            "\n",
            "            Dividends  Stock Splits  \n",
            "Date                                 \n",
            "2016-01-31          0             0  \n",
            "2016-02-29          0             0  \n",
            "2016-03-31          0             0  \n",
            "2016-04-30          0             0  \n",
            "2016-05-31          0             0  \n",
            "2016-06-30          0             0  \n",
            "2016-07-31          0             0  \n",
            "2016-08-31          0             0  \n",
            "2016-09-30          0             0  \n",
            "2016-10-31          0             0  \n",
            "2016-11-30          0             0  \n",
            "2016-12-31          0             0  \n"
          ]
        },
        {
          "output_type": "stream",
          "name": "stderr",
          "text": [
            "/usr/local/lib/python3.7/dist-packages/ipykernel_launcher.py:2: FutureWarning: Indexing a DataFrame with a datetimelike index using a single string to slice the rows, like `frame[string]`, is deprecated and will be removed in a future version. Use `frame.loc[string]` instead.\n",
            "  \n"
          ]
        }
      ]
    },
    {
      "cell_type": "markdown",
      "source": [
        "Podemos acceder a ciertas columnas de un dataframe y organizarlas en un nuevo dataframe\n"
      ],
      "metadata": {
        "id": "GzM6tKF2uH0S"
      }
    },
    {
      "cell_type": "code",
      "source": [
        "google_bar = google_month[['Open', 'High', 'Low', 'Close']]\n",
        "print(google_bar)"
      ],
      "metadata": {
        "colab": {
          "base_uri": "https://localhost:8080/"
        },
        "id": "HuFF6g6SuMgz",
        "outputId": "99486571-0d5f-42a5-8613-79d869e862bd"
      },
      "execution_count": 11,
      "outputs": [
        {
          "output_type": "stream",
          "name": "stdout",
          "text": [
            "                  Open        High         Low       Close\n",
            "Date                                                      \n",
            "2016-01-31  748.960022  765.109985  744.200012  761.349976\n",
            "2016-02-29  721.000000  730.599976  716.840027  717.219971\n",
            "2016-03-31  768.340027  769.080017  758.250000  762.900024\n",
            "2016-04-30  704.119995  712.109985  703.780029  707.880005\n",
            "2016-05-31  748.760010  753.479980  745.570007  748.849976\n",
            "2016-06-30  697.650024  703.770020  694.900024  703.530029\n",
            "2016-07-31  797.710022  803.940002  790.000000  791.340027\n",
            "2016-08-31  789.599976  791.570007  787.200012  789.849976\n",
            "2016-09-30  803.599976  808.090027  801.500000  804.059998\n",
            "2016-10-31  822.429993  822.630005  808.000000  809.900024\n",
            "2016-11-30  789.099976  791.510010  773.150024  775.880005\n",
            "2016-12-31  803.210022  803.289978  789.619995  792.450012\n"
          ]
        }
      ]
    },
    {
      "cell_type": "markdown",
      "source": [
        "Al mismo tiempo es posible crear subconjuntos alrededor de un dataframe usando operadores logicos"
      ],
      "metadata": {
        "id": "Ypf0FHHOufTS"
      }
    },
    {
      "cell_type": "code",
      "source": [
        "import numpy as np\n",
        "\n",
        "# Buscamos en google bar precios de cierre mayor a la media.\n",
        "above = google_bar[google_bar.Close > np.mean(google_bar.Close)]\n",
        "print(above)"
      ],
      "metadata": {
        "colab": {
          "base_uri": "https://localhost:8080/"
        },
        "id": "XL0uhcqZuw2f",
        "outputId": "636d84a3-55fe-47c6-b465-f3b439c180ff"
      },
      "execution_count": 13,
      "outputs": [
        {
          "output_type": "stream",
          "name": "stdout",
          "text": [
            "                  Open        High         Low       Close\n",
            "Date                                                      \n",
            "2016-07-31  797.710022  803.940002  790.000000  791.340027\n",
            "2016-08-31  789.599976  791.570007  787.200012  789.849976\n",
            "2016-09-30  803.599976  808.090027  801.500000  804.059998\n",
            "2016-10-31  822.429993  822.630005  808.000000  809.900024\n",
            "2016-11-30  789.099976  791.510010  773.150024  775.880005\n",
            "2016-12-31  803.210022  803.289978  789.619995  792.450012\n"
          ]
        }
      ]
    },
    {
      "cell_type": "markdown",
      "source": [
        "### Validacion de datos\n"
      ],
      "metadata": {
        "id": "TtxKNcJyu9_J"
      }
    },
    {
      "cell_type": "code",
      "source": [
        "# Anadiendo una nueva columna al dataframe \n",
        "# La columna computa el cambio porcentual en los precios de cierre de la accion\n",
        "google_bar['rate_return'] = google_bar.Close.pct_change()\n",
        "print(google_bar)"
      ],
      "metadata": {
        "colab": {
          "base_uri": "https://localhost:8080/"
        },
        "id": "vo5s6sonvCkg",
        "outputId": "ba35cb33-1bb0-4e2f-ca6a-e98add5f7c3a"
      },
      "execution_count": 15,
      "outputs": [
        {
          "output_type": "stream",
          "name": "stdout",
          "text": [
            "                  Open        High         Low       Close  rate_return\n",
            "Date                                                                   \n",
            "2016-01-31  748.960022  765.109985  744.200012  761.349976          NaN\n",
            "2016-02-29  721.000000  730.599976  716.840027  717.219971    -0.057963\n",
            "2016-03-31  768.340027  769.080017  758.250000  762.900024     0.063690\n",
            "2016-04-30  704.119995  712.109985  703.780029  707.880005    -0.072120\n",
            "2016-05-31  748.760010  753.479980  745.570007  748.849976     0.057877\n",
            "2016-06-30  697.650024  703.770020  694.900024  703.530029    -0.060519\n",
            "2016-07-31  797.710022  803.940002  790.000000  791.340027     0.124813\n",
            "2016-08-31  789.599976  791.570007  787.200012  789.849976    -0.001883\n",
            "2016-09-30  803.599976  808.090027  801.500000  804.059998     0.017991\n",
            "2016-10-31  822.429993  822.630005  808.000000  809.900024     0.007263\n",
            "2016-11-30  789.099976  791.510010  773.150024  775.880005    -0.042005\n",
            "2016-12-31  803.210022  803.289978  789.619995  792.450012     0.021356\n"
          ]
        },
        {
          "output_type": "stream",
          "name": "stderr",
          "text": [
            "/usr/local/lib/python3.7/dist-packages/ipykernel_launcher.py:3: SettingWithCopyWarning: \n",
            "A value is trying to be set on a copy of a slice from a DataFrame.\n",
            "Try using .loc[row_indexer,col_indexer] = value instead\n",
            "\n",
            "See the caveats in the documentation: https://pandas.pydata.org/pandas-docs/stable/user_guide/indexing.html#returning-a-view-versus-a-copy\n",
            "  This is separate from the ipykernel package so we can avoid doing imports until\n"
          ]
        }
      ]
    },
    {
      "cell_type": "markdown",
      "source": [
        "Si queremos evitar tener problemas con los NaN podemos validar que los datos con los que se hacen los computos, no sean nulos"
      ],
      "metadata": {
        "id": "PIQDWMI2vSZs"
      }
    },
    {
      "cell_type": "code",
      "source": [
        "missing = google_bar.isnull()\n",
        "print(missing)\n",
        "print('---------------------------------------------')\n",
        "print(missing.describe())"
      ],
      "metadata": {
        "colab": {
          "base_uri": "https://localhost:8080/"
        },
        "id": "PudSlmtmvhi4",
        "outputId": "4dc365c5-b133-4d58-d173-764280ed60b9"
      },
      "execution_count": 16,
      "outputs": [
        {
          "output_type": "stream",
          "name": "stdout",
          "text": [
            "             Open   High    Low  Close  rate_return\n",
            "Date                                               \n",
            "2016-01-31  False  False  False  False         True\n",
            "2016-02-29  False  False  False  False        False\n",
            "2016-03-31  False  False  False  False        False\n",
            "2016-04-30  False  False  False  False        False\n",
            "2016-05-31  False  False  False  False        False\n",
            "2016-06-30  False  False  False  False        False\n",
            "2016-07-31  False  False  False  False        False\n",
            "2016-08-31  False  False  False  False        False\n",
            "2016-09-30  False  False  False  False        False\n",
            "2016-10-31  False  False  False  False        False\n",
            "2016-11-30  False  False  False  False        False\n",
            "2016-12-31  False  False  False  False        False\n",
            "---------------------------------------------\n",
            "         Open   High    Low  Close rate_return\n",
            "count      12     12     12     12          12\n",
            "unique      1      1      1      1           2\n",
            "top     False  False  False  False       False\n",
            "freq       12     12     12     12          11\n"
          ]
        }
      ]
    },
    {
      "cell_type": "code",
      "source": [
        "# Podemos verificar rapidamente los datos faltantes\n",
        "print(missing[missing.rate_return == True])\n",
        "# E igual que en las series podemos eliminar los NaN, o reemplazarlos\n",
        "drop = google_bar.dropna()\n",
        "print(drop)\n",
        "print('\\n--------------------------------------------------\\n')\n",
        "fill = google_bar.fillna(0)\n",
        "print(fill)"
      ],
      "metadata": {
        "colab": {
          "base_uri": "https://localhost:8080/"
        },
        "id": "7dh_abJ0vvIB",
        "outputId": "91c0ca24-ff4b-46d3-efb9-7f4ea9fbd0d2"
      },
      "execution_count": 17,
      "outputs": [
        {
          "output_type": "stream",
          "name": "stdout",
          "text": [
            "             Open   High    Low  Close  rate_return\n",
            "Date                                               \n",
            "2016-01-31  False  False  False  False         True\n",
            "                  Open        High         Low       Close  rate_return\n",
            "Date                                                                   \n",
            "2016-02-29  721.000000  730.599976  716.840027  717.219971    -0.057963\n",
            "2016-03-31  768.340027  769.080017  758.250000  762.900024     0.063690\n",
            "2016-04-30  704.119995  712.109985  703.780029  707.880005    -0.072120\n",
            "2016-05-31  748.760010  753.479980  745.570007  748.849976     0.057877\n",
            "2016-06-30  697.650024  703.770020  694.900024  703.530029    -0.060519\n",
            "2016-07-31  797.710022  803.940002  790.000000  791.340027     0.124813\n",
            "2016-08-31  789.599976  791.570007  787.200012  789.849976    -0.001883\n",
            "2016-09-30  803.599976  808.090027  801.500000  804.059998     0.017991\n",
            "2016-10-31  822.429993  822.630005  808.000000  809.900024     0.007263\n",
            "2016-11-30  789.099976  791.510010  773.150024  775.880005    -0.042005\n",
            "2016-12-31  803.210022  803.289978  789.619995  792.450012     0.021356\n",
            "\n",
            "--------------------------------------------------\n",
            "\n",
            "                  Open        High         Low       Close  rate_return\n",
            "Date                                                                   \n",
            "2016-01-31  748.960022  765.109985  744.200012  761.349976     0.000000\n",
            "2016-02-29  721.000000  730.599976  716.840027  717.219971    -0.057963\n",
            "2016-03-31  768.340027  769.080017  758.250000  762.900024     0.063690\n",
            "2016-04-30  704.119995  712.109985  703.780029  707.880005    -0.072120\n",
            "2016-05-31  748.760010  753.479980  745.570007  748.849976     0.057877\n",
            "2016-06-30  697.650024  703.770020  694.900024  703.530029    -0.060519\n",
            "2016-07-31  797.710022  803.940002  790.000000  791.340027     0.124813\n",
            "2016-08-31  789.599976  791.570007  787.200012  789.849976    -0.001883\n",
            "2016-09-30  803.599976  808.090027  801.500000  804.059998     0.017991\n",
            "2016-10-31  822.429993  822.630005  808.000000  809.900024     0.007263\n",
            "2016-11-30  789.099976  791.510010  773.150024  775.880005    -0.042005\n",
            "2016-12-31  803.210022  803.289978  789.619995  792.450012     0.021356\n"
          ]
        }
      ]
    },
    {
      "cell_type": "markdown",
      "source": [
        "### Concatenacion de dataframes\n",
        "\n",
        "Es posible unificar 2Dataframes entre si o una serie con otra. \n",
        "\n",
        "La funcion concat nos permite hacer este proceso. "
      ],
      "metadata": {
        "id": "WAr6s2X8v5__"
      }
    },
    {
      "cell_type": "code",
      "source": [
        "s1 = pd.Series([143.5, 144.09, 142.73, 144.18, 143.77], name = 'AAPL')\n",
        "s2 = pd.Series([898.7, 911.71, 906.69, 918.59, 926.99], name = 'GOOG')\n",
        "data_frame = pd.concat([s1,s2], axis = 1)\n",
        "print(data_frame)"
      ],
      "metadata": {
        "colab": {
          "base_uri": "https://localhost:8080/"
        },
        "id": "gAf4nNQOv9Bd",
        "outputId": "0c9a94af-0dcc-4a9a-e7dc-c99731ea1c4c"
      },
      "execution_count": 19,
      "outputs": [
        {
          "output_type": "stream",
          "name": "stdout",
          "text": [
            "     AAPL    GOOG\n",
            "0  143.50  898.70\n",
            "1  144.09  911.71\n",
            "2  142.73  906.69\n",
            "3  144.18  918.59\n",
            "4  143.77  926.99\n"
          ]
        }
      ]
    },
    {
      "cell_type": "markdown",
      "source": [
        "Si se desea unir a traves de columnas y no de filas, debemos usar el parametro axis == 1"
      ],
      "metadata": {
        "id": "1haC6ztPwPaf"
      }
    },
    {
      "cell_type": "code",
      "source": [
        "log_price = np.log(google_bar.Close)\n",
        "log_price.name = 'log_price'\n",
        "print(log_price)\n",
        "print('\\n---------------------- separate line--------------------\\n')\n",
        "concat = pd.concat([google_bar, log_price], axis = 1)\n",
        "print(concat)"
      ],
      "metadata": {
        "colab": {
          "base_uri": "https://localhost:8080/"
        },
        "id": "K0NmrwWsv_F3",
        "outputId": "35ad2582-bcd0-4229-d309-672f4e5c3632"
      },
      "execution_count": 20,
      "outputs": [
        {
          "output_type": "stream",
          "name": "stdout",
          "text": [
            "Date\n",
            "2016-01-31    6.635093\n",
            "2016-02-29    6.575383\n",
            "2016-03-31    6.637127\n",
            "2016-04-30    6.562275\n",
            "2016-05-31    6.618539\n",
            "2016-06-30    6.556111\n",
            "2016-07-31    6.673728\n",
            "2016-08-31    6.671843\n",
            "2016-09-30    6.689674\n",
            "2016-10-31    6.696911\n",
            "2016-11-30    6.653998\n",
            "2016-12-31    6.675129\n",
            "Freq: M, Name: log_price, dtype: float64\n",
            "\n",
            "---------------------- separate line--------------------\n",
            "\n",
            "                  Open        High         Low       Close  rate_return  \\\n",
            "Date                                                                      \n",
            "2016-01-31  748.960022  765.109985  744.200012  761.349976          NaN   \n",
            "2016-02-29  721.000000  730.599976  716.840027  717.219971    -0.057963   \n",
            "2016-03-31  768.340027  769.080017  758.250000  762.900024     0.063690   \n",
            "2016-04-30  704.119995  712.109985  703.780029  707.880005    -0.072120   \n",
            "2016-05-31  748.760010  753.479980  745.570007  748.849976     0.057877   \n",
            "2016-06-30  697.650024  703.770020  694.900024  703.530029    -0.060519   \n",
            "2016-07-31  797.710022  803.940002  790.000000  791.340027     0.124813   \n",
            "2016-08-31  789.599976  791.570007  787.200012  789.849976    -0.001883   \n",
            "2016-09-30  803.599976  808.090027  801.500000  804.059998     0.017991   \n",
            "2016-10-31  822.429993  822.630005  808.000000  809.900024     0.007263   \n",
            "2016-11-30  789.099976  791.510010  773.150024  775.880005    -0.042005   \n",
            "2016-12-31  803.210022  803.289978  789.619995  792.450012     0.021356   \n",
            "\n",
            "            log_price  \n",
            "Date                   \n",
            "2016-01-31   6.635093  \n",
            "2016-02-29   6.575383  \n",
            "2016-03-31   6.637127  \n",
            "2016-04-30   6.562275  \n",
            "2016-05-31   6.618539  \n",
            "2016-06-30   6.556111  \n",
            "2016-07-31   6.673728  \n",
            "2016-08-31   6.671843  \n",
            "2016-09-30   6.689674  \n",
            "2016-10-31   6.696911  \n",
            "2016-11-30   6.653998  \n",
            "2016-12-31   6.675129  \n"
          ]
        }
      ]
    },
    {
      "cell_type": "code",
      "source": [
        "# Unir dos dataframes a traves de sus filas\n",
        "\n",
        "df_volume = google_table.loc['2016-10':'2017-04',['Volume', 'Stock Splits']].resample('M').agg(lambda x: x[-1])\n",
        "print(df_volume)\n",
        "print('\\n---------------------- separate line--------------------\\n')\n",
        "df_2017 = google_table.loc['2016-10':'2017-04',['Open', 'High', 'Low', 'Close']].resample('M').agg(lambda x: x[-1])\n",
        "print(df_2017)"
      ],
      "metadata": {
        "colab": {
          "base_uri": "https://localhost:8080/"
        },
        "id": "Dk6pO14dwd5o",
        "outputId": "46d6f7b0-73ec-4bf4-e29e-ce87c0796fbb"
      },
      "execution_count": 22,
      "outputs": [
        {
          "output_type": "stream",
          "name": "stdout",
          "text": [
            "             Volume  Stock Splits\n",
            "Date                             \n",
            "2016-10-31  2242700             0\n",
            "2016-11-30  2279100             0\n",
            "2016-12-31  1735900             0\n",
            "2017-01-31  2020200             0\n",
            "2017-02-28  1383100             0\n",
            "2017-03-31  1441000             0\n",
            "2017-04-30  3845900             0\n",
            "\n",
            "---------------------- separate line--------------------\n",
            "\n",
            "                  Open        High         Low       Close\n",
            "Date                                                      \n",
            "2016-10-31  822.429993  822.630005  808.000000  809.900024\n",
            "2016-11-30  789.099976  791.510010  773.150024  775.880005\n",
            "2016-12-31  803.210022  803.289978  789.619995  792.450012\n",
            "2017-01-31  819.500000  823.070007  813.400024  820.190002\n",
            "2017-02-28  847.349976  848.830017  841.440002  844.929993\n",
            "2017-03-31  846.830017  849.559998  845.239990  847.799988\n",
            "2017-04-30  929.000000  935.900024  923.219971  924.520020\n"
          ]
        }
      ]
    },
    {
      "cell_type": "code",
      "source": [
        "# Haciendo la concatenacion de todos nuestros DF\n",
        "concat = pd.concat([google_bar, df_volume], axis = 1)\n",
        "print(concat)"
      ],
      "metadata": {
        "colab": {
          "base_uri": "https://localhost:8080/"
        },
        "id": "XGQCdl3Mwl4c",
        "outputId": "6c3a3c69-7101-4868-ad35-73f72aa4f785"
      },
      "execution_count": 23,
      "outputs": [
        {
          "output_type": "stream",
          "name": "stdout",
          "text": [
            "                  Open        High         Low       Close  rate_return  \\\n",
            "Date                                                                      \n",
            "2016-01-31  748.960022  765.109985  744.200012  761.349976          NaN   \n",
            "2016-02-29  721.000000  730.599976  716.840027  717.219971    -0.057963   \n",
            "2016-03-31  768.340027  769.080017  758.250000  762.900024     0.063690   \n",
            "2016-04-30  704.119995  712.109985  703.780029  707.880005    -0.072120   \n",
            "2016-05-31  748.760010  753.479980  745.570007  748.849976     0.057877   \n",
            "2016-06-30  697.650024  703.770020  694.900024  703.530029    -0.060519   \n",
            "2016-07-31  797.710022  803.940002  790.000000  791.340027     0.124813   \n",
            "2016-08-31  789.599976  791.570007  787.200012  789.849976    -0.001883   \n",
            "2016-09-30  803.599976  808.090027  801.500000  804.059998     0.017991   \n",
            "2016-10-31  822.429993  822.630005  808.000000  809.900024     0.007263   \n",
            "2016-11-30  789.099976  791.510010  773.150024  775.880005    -0.042005   \n",
            "2016-12-31  803.210022  803.289978  789.619995  792.450012     0.021356   \n",
            "2017-01-31         NaN         NaN         NaN         NaN          NaN   \n",
            "2017-02-28         NaN         NaN         NaN         NaN          NaN   \n",
            "2017-03-31         NaN         NaN         NaN         NaN          NaN   \n",
            "2017-04-30         NaN         NaN         NaN         NaN          NaN   \n",
            "\n",
            "               Volume  Stock Splits  \n",
            "Date                                 \n",
            "2016-01-31        NaN           NaN  \n",
            "2016-02-29        NaN           NaN  \n",
            "2016-03-31        NaN           NaN  \n",
            "2016-04-30        NaN           NaN  \n",
            "2016-05-31        NaN           NaN  \n",
            "2016-06-30        NaN           NaN  \n",
            "2016-07-31        NaN           NaN  \n",
            "2016-08-31        NaN           NaN  \n",
            "2016-09-30        NaN           NaN  \n",
            "2016-10-31  2242700.0           0.0  \n",
            "2016-11-30  2279100.0           0.0  \n",
            "2016-12-31  1735900.0           0.0  \n",
            "2017-01-31  2020200.0           0.0  \n",
            "2017-02-28  1383100.0           0.0  \n",
            "2017-03-31  1441000.0           0.0  \n",
            "2017-04-30  3845900.0           0.0  \n"
          ]
        }
      ]
    },
    {
      "cell_type": "markdown",
      "source": [
        "Podemos usar la funcion append para anadir un dataframe a otro"
      ],
      "metadata": {
        "id": "e0fjahESwvvf"
      }
    },
    {
      "cell_type": "code",
      "source": [
        "append = google_bar.append(df_2017)\n",
        "print(append)"
      ],
      "metadata": {
        "colab": {
          "base_uri": "https://localhost:8080/"
        },
        "id": "47l7V-ZWwvCM",
        "outputId": "31040bb4-332e-4e84-efee-818920e010d8"
      },
      "execution_count": 24,
      "outputs": [
        {
          "output_type": "stream",
          "name": "stdout",
          "text": [
            "                  Open        High         Low       Close  rate_return\n",
            "Date                                                                   \n",
            "2016-01-31  748.960022  765.109985  744.200012  761.349976          NaN\n",
            "2016-02-29  721.000000  730.599976  716.840027  717.219971    -0.057963\n",
            "2016-03-31  768.340027  769.080017  758.250000  762.900024     0.063690\n",
            "2016-04-30  704.119995  712.109985  703.780029  707.880005    -0.072120\n",
            "2016-05-31  748.760010  753.479980  745.570007  748.849976     0.057877\n",
            "2016-06-30  697.650024  703.770020  694.900024  703.530029    -0.060519\n",
            "2016-07-31  797.710022  803.940002  790.000000  791.340027     0.124813\n",
            "2016-08-31  789.599976  791.570007  787.200012  789.849976    -0.001883\n",
            "2016-09-30  803.599976  808.090027  801.500000  804.059998     0.017991\n",
            "2016-10-31  822.429993  822.630005  808.000000  809.900024     0.007263\n",
            "2016-11-30  789.099976  791.510010  773.150024  775.880005    -0.042005\n",
            "2016-12-31  803.210022  803.289978  789.619995  792.450012     0.021356\n",
            "2016-10-31  822.429993  822.630005  808.000000  809.900024          NaN\n",
            "2016-11-30  789.099976  791.510010  773.150024  775.880005          NaN\n",
            "2016-12-31  803.210022  803.289978  789.619995  792.450012          NaN\n",
            "2017-01-31  819.500000  823.070007  813.400024  820.190002          NaN\n",
            "2017-02-28  847.349976  848.830017  841.440002  844.929993          NaN\n",
            "2017-03-31  846.830017  849.559998  845.239990  847.799988          NaN\n",
            "2017-04-30  929.000000  935.900024  923.219971  924.520020          NaN\n"
          ]
        }
      ]
    },
    {
      "cell_type": "markdown",
      "source": [
        "Nota: Si dos columnas tienen el mismo nombre sus valores se combinaran. Es importante evitar los casos en donde esto puede causar problemas."
      ],
      "metadata": {
        "id": "Zb320meFw6Pc"
      }
    },
    {
      "cell_type": "code",
      "source": [
        "df_2017.columns = ['Change', 'High','Low','Close']\n",
        "concat = pd.concat([google_bar, df_2017], axis = 0)\n",
        "print(concat)"
      ],
      "metadata": {
        "colab": {
          "base_uri": "https://localhost:8080/"
        },
        "id": "z_MuJ99rw5qA",
        "outputId": "46689e14-174f-42a3-a661-a69566ebaf32"
      },
      "execution_count": 25,
      "outputs": [
        {
          "output_type": "stream",
          "name": "stdout",
          "text": [
            "                  Open        High         Low       Close  rate_return  \\\n",
            "Date                                                                      \n",
            "2016-01-31  748.960022  765.109985  744.200012  761.349976          NaN   \n",
            "2016-02-29  721.000000  730.599976  716.840027  717.219971    -0.057963   \n",
            "2016-03-31  768.340027  769.080017  758.250000  762.900024     0.063690   \n",
            "2016-04-30  704.119995  712.109985  703.780029  707.880005    -0.072120   \n",
            "2016-05-31  748.760010  753.479980  745.570007  748.849976     0.057877   \n",
            "2016-06-30  697.650024  703.770020  694.900024  703.530029    -0.060519   \n",
            "2016-07-31  797.710022  803.940002  790.000000  791.340027     0.124813   \n",
            "2016-08-31  789.599976  791.570007  787.200012  789.849976    -0.001883   \n",
            "2016-09-30  803.599976  808.090027  801.500000  804.059998     0.017991   \n",
            "2016-10-31  822.429993  822.630005  808.000000  809.900024     0.007263   \n",
            "2016-11-30  789.099976  791.510010  773.150024  775.880005    -0.042005   \n",
            "2016-12-31  803.210022  803.289978  789.619995  792.450012     0.021356   \n",
            "2016-10-31         NaN  822.630005  808.000000  809.900024          NaN   \n",
            "2016-11-30         NaN  791.510010  773.150024  775.880005          NaN   \n",
            "2016-12-31         NaN  803.289978  789.619995  792.450012          NaN   \n",
            "2017-01-31         NaN  823.070007  813.400024  820.190002          NaN   \n",
            "2017-02-28         NaN  848.830017  841.440002  844.929993          NaN   \n",
            "2017-03-31         NaN  849.559998  845.239990  847.799988          NaN   \n",
            "2017-04-30         NaN  935.900024  923.219971  924.520020          NaN   \n",
            "\n",
            "                Change  \n",
            "Date                    \n",
            "2016-01-31         NaN  \n",
            "2016-02-29         NaN  \n",
            "2016-03-31         NaN  \n",
            "2016-04-30         NaN  \n",
            "2016-05-31         NaN  \n",
            "2016-06-30         NaN  \n",
            "2016-07-31         NaN  \n",
            "2016-08-31         NaN  \n",
            "2016-09-30         NaN  \n",
            "2016-10-31         NaN  \n",
            "2016-11-30         NaN  \n",
            "2016-12-31         NaN  \n",
            "2016-10-31  822.429993  \n",
            "2016-11-30  789.099976  \n",
            "2016-12-31  803.210022  \n",
            "2017-01-31  819.500000  \n",
            "2017-02-28  847.349976  \n",
            "2017-03-31  846.830017  \n",
            "2017-04-30  929.000000  \n"
          ]
        }
      ]
    }
  ]
}